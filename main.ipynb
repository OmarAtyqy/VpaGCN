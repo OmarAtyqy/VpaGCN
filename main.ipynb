{
 "cells": [
  {
   "cell_type": "code",
   "execution_count": null,
   "metadata": {},
   "outputs": [],
   "source": [
    "# create the required directories if they don't exist\n",
    "import os\n",
    "import sys\n",
    "\n",
    "# create the figures directory if it doesn't exist\n",
    "if not os.path.isdir('figures'):\n",
    "    os.makedirs('figures')\n",
    "\n",
    "# create the figures/dist, figures/heat and figures/results if they don't exist\n",
    "if not os.path.isdir('figures/dist'):\n",
    "    os.makedirs('figures/dist')\n",
    "if not os.path.isdir('figures/heat'):\n",
    "    os.makedirs('figures/heat')\n",
    "if not os.path.isdir('figures/results'):\n",
    "    os.makedirs('figures/results')\n",
    "\n",
    "# create the models directory if it doesn't exist\n",
    "if not os.path.isdir('models'):\n",
    "    os.makedirs('models')\n",
    "\n",
    "# create the data/graphs and data/sim directories if they don't exist\n",
    "# The data/csv should already exist from the git repo, it contains the data.csv file\n",
    "if not os.path.isdir('data/graphs'):\n",
    "    os.makedirs('data/graphs')\n",
    "if not os.path.isdir('data/sim'):\n",
    "    os.makedirs('data/sim')"
   ]
  },
  {
   "cell_type": "markdown",
   "metadata": {},
   "source": [
    "# Cleaning data"
   ]
  },
  {
   "cell_type": "code",
   "execution_count": null,
   "metadata": {},
   "outputs": [],
   "source": [
    "import pandas as pd\n",
    "from tqdm import tqdm\n",
    "import re"
   ]
  },
  {
   "cell_type": "code",
   "execution_count": null,
   "metadata": {},
   "outputs": [],
   "source": [
    "# read the data\n",
    "data = pd.read_csv('data/csv/data.csv')"
   ]
  },
  {
   "cell_type": "code",
   "execution_count": null,
   "metadata": {},
   "outputs": [],
   "source": [
    "# seperate the data into two parts according to their VAP (0 or 1) and put them into two variables\n",
    "data_0 = data[data['VAP'] == 0]\n",
    "data_1 = data[data['VAP'] == 1]\n",
    "\n",
    "# print the number of rows of the two variables\n",
    "print(\"Class 0: \", data_0.shape[0])\n",
    "print(\"Class 1: \", data_1.shape[0])"
   ]
  },
  {
   "cell_type": "code",
   "execution_count": null,
   "metadata": {},
   "outputs": [],
   "source": [
    "# get the values in the TEXT column for each class\n",
    "text_0 = data_0['TEXT'].values\n",
    "text_1 = data_1['TEXT'].values\n",
    "\n",
    "# make a set of all the words in the TEXT column for each class\n",
    "words_0 = set()\n",
    "for text in tqdm(text_0):\n",
    "    for word in text.split():\n",
    "        words_0.add(word)\n",
    "\n",
    "words_1 = set()\n",
    "for text in tqdm(text_1):\n",
    "    for word in text.split():\n",
    "        words_1.add(word)\n",
    "    \n",
    "# make a set of words that are in both classes\n",
    "words_both = set()\n",
    "for word in tqdm(words_0):\n",
    "    if word in words_1:\n",
    "        words_both.add(word)"
   ]
  },
  {
   "cell_type": "code",
   "execution_count": null,
   "metadata": {},
   "outputs": [],
   "source": [
    "# print the number of unique words in each class\n",
    "print(\"Class 0: \", len(words_0))\n",
    "print(\"Class 1: \", len(words_1))\n",
    "print(\"Both: \", len(words_both))"
   ]
  },
  {
   "cell_type": "code",
   "execution_count": null,
   "metadata": {},
   "outputs": [],
   "source": [
    "threshold = 0.2\n",
    "words_to_remove = set()\n",
    "\n",
    "for word in tqdm(words_both):\n",
    "    count_0 = 0\n",
    "    count_1 = 0\n",
    "\n",
    "    # count the number of times the word appears in each class\n",
    "    for text in text_0:\n",
    "        if word in text:\n",
    "            count_0 += 1\n",
    "    for text in text_1:\n",
    "        if word in text:\n",
    "            count_1 += 1\n",
    "    \n",
    "    # calculate the probability of the word appearing in each class\n",
    "    prob_0 = count_0 / data_0.shape[0]\n",
    "    prob_1 = count_1 / data_1.shape[0]\n",
    "\n",
    "    # calculate the ratio of the probability of the word appearing in each class\n",
    "    ratio = prob_1 / prob_0\n",
    "\n",
    "    # if the ratio is close to 1 by a certain threshold, remove the word from the set of words that are in both classes\n",
    "    if ratio >= 1 - threshold and ratio <= 1 + threshold:\n",
    "        words_to_remove.add(word)"
   ]
  },
  {
   "cell_type": "code",
   "execution_count": null,
   "metadata": {},
   "outputs": [],
   "source": [
    "# print the number of words to remove\n",
    "print(\"Words to remove: \", len(words_to_remove))"
   ]
  },
  {
   "cell_type": "code",
   "execution_count": null,
   "metadata": {},
   "outputs": [],
   "source": [
    "print(words_to_remove)"
   ]
  },
  {
   "cell_type": "code",
   "execution_count": null,
   "metadata": {},
   "outputs": [],
   "source": [
    "# Compile a single regular expression that matches any word in words_to_remove\n",
    "pattern = r'\\b(?:' + '|'.join(re.escape(word) for word in words_to_remove) + r')\\b'\n",
    "regex = re.compile(pattern)"
   ]
  },
  {
   "cell_type": "code",
   "execution_count": null,
   "metadata": {},
   "outputs": [],
   "source": [
    "def remove_words(text):\n",
    "    # Replace matched words with a single space\n",
    "    text = regex.sub(' ', text)\n",
    "    # Remove extra spaces\n",
    "    text = re.sub(r'\\s+', ' ', text).strip()\n",
    "    return text"
   ]
  },
  {
   "cell_type": "code",
   "execution_count": null,
   "metadata": {},
   "outputs": [],
   "source": [
    "# make a copy of the dataframe\n",
    "print(\"Making a copy of the dataframe...\")\n",
    "data_cpy = data.copy()\n",
    "\n",
    "# remove the words from the TEXT column for each row\n",
    "print(\"Removing the words from the TEXT column for each row...\")\n",
    "for i in tqdm(range(data_cpy.shape[0])):\n",
    "    # remove the words from the TEXT column\n",
    "    text = remove_words(data_cpy.at[i, 'TEXT'])\n",
    "\n",
    "    # if the new text is empty or contains less than 5 words, remove the row\n",
    "    if len(text) == 0 or len(text.split()) < 5:\n",
    "        data_cpy.drop(i, inplace=True)\n",
    "        continue\n",
    "\n",
    "    # update the TEXT column\n",
    "    data_cpy.at[i, 'TEXT'] = text\n",
    "\n",
    "# save the dataframe to a csv file\n",
    "print(\"Saving the dataframe to a csv file...\")\n",
    "data_cpy.to_csv('data/csv/data_cleaned.csv', index=False)"
   ]
  },
  {
   "cell_type": "markdown",
   "metadata": {},
   "source": [
    "# Embedding"
   ]
  },
  {
   "cell_type": "code",
   "execution_count": null,
   "metadata": {},
   "outputs": [],
   "source": [
    "import pandas as pd\n",
    "import numpy as np\n",
    "import gensim"
   ]
  },
  {
   "cell_type": "code",
   "execution_count": null,
   "metadata": {},
   "outputs": [],
   "source": [
    "df = pd.read_csv(\"data/csv/data_cleaned.csv\")"
   ]
  },
  {
   "cell_type": "code",
   "execution_count": null,
   "metadata": {},
   "outputs": [],
   "source": [
    "# creating a matrix of word embeddings using the cleaned data and the BioWordVec model\n",
    "model = gensim.models.KeyedVectors.load_word2vec_format(\"bin/pubmed.bin\", binary=True)\n",
    "\n",
    "# function to create a matrix of word embeddings\n",
    "def get_word_embeddings(sample):\n",
    "    # initialize a matrix of zeros\n",
    "    embeddings = np.zeros(200)\n",
    "    # get the words in the sample\n",
    "    words = sample.split()\n",
    "    # get the number of words\n",
    "    num_words = len(words)\n",
    "    # loop over the words\n",
    "    for word in words:\n",
    "        # check if the word is in the model's vocabulary\n",
    "        if word in model.key_to_index :\n",
    "            # add the word embedding to the matrix\n",
    "            embeddings += model[word]\n",
    "    # return the matrix divided by the number of words\n",
    "    return np.array(embeddings / num_words)"
   ]
  },
  {
   "cell_type": "code",
   "execution_count": null,
   "metadata": {},
   "outputs": [],
   "source": [
    "# apply the function to the TEXT column, for each embedding, create a new column\n",
    "df[[\"embedding_\" + str(i) for i in range(200)]] = df[\"TEXT\"].apply(get_word_embeddings).to_list()\n",
    "\n",
    "# save the dataframe\n",
    "df.to_csv(\"data/csv/data_embedded.csv\", index=False)"
   ]
  },
  {
   "cell_type": "markdown",
   "metadata": {},
   "source": [
    "# Processed data"
   ]
  },
  {
   "cell_type": "code",
   "execution_count": null,
   "metadata": {},
   "outputs": [],
   "source": [
    "import pandas as pd\n",
    "from imblearn.over_sampling import SMOTE"
   ]
  },
  {
   "cell_type": "code",
   "execution_count": null,
   "metadata": {},
   "outputs": [],
   "source": [
    "df = pd.read_csv(\"data/csv/data_embedded.csv\")"
   ]
  },
  {
   "cell_type": "code",
   "execution_count": null,
   "metadata": {},
   "outputs": [],
   "source": [
    "# seperate the features and the labels, the features are the word embeddings, each embedding is a column\n",
    "X = df[[col for col in df.columns if \"embedding\" in col]]\n",
    "y = [int(i) for i in df[\"VAP\"].tolist()]\n",
    "\n",
    "# initialize the SMOTE object\n",
    "sm = SMOTE(random_state=42)\n",
    "\n",
    "# fit the SMOTE object to the data\n",
    "X_res, y_res = sm.fit_resample(X, y)\n",
    "\n",
    "# create a dataframe from the augmented data\n",
    "df_res = pd.DataFrame(X_res, columns=X.columns)\n",
    "df_res[\"VAP\"] = y_res\n",
    "\n",
    "# save the dataframe\n",
    "df_res.to_csv(\"data/csv/data_resampled.csv\", index=False)"
   ]
  },
  {
   "cell_type": "code",
   "execution_count": null,
   "metadata": {},
   "outputs": [],
   "source": [
    "# count the number of samples in each class\n",
    "df_res[\"VAP\"].value_counts()"
   ]
  },
  {
   "cell_type": "markdown",
   "metadata": {},
   "source": [
    "# Similarity"
   ]
  },
  {
   "cell_type": "code",
   "execution_count": null,
   "metadata": {},
   "outputs": [],
   "source": [
    "import pandas as pd\n",
    "import numpy as np\n",
    "from scipy.spatial.distance import cosine, euclidean, chebyshev\n",
    "import tqdm\n",
    "import seaborn as sns\n",
    "import matplotlib.pyplot as plt"
   ]
  },
  {
   "cell_type": "code",
   "execution_count": null,
   "metadata": {},
   "outputs": [],
   "source": [
    "df = pd.read_csv(\"data/csv/data_resampled.csv\")"
   ]
  },
  {
   "cell_type": "code",
   "execution_count": null,
   "metadata": {},
   "outputs": [],
   "source": [
    "# sim matrices\n",
    "sim_dic = {\n",
    "    \"cos_sim\":np.zeros((len(df), len(df))),\n",
    "    \"euc_dist\":np.zeros((len(df), len(df))),\n",
    "    \"cheb_dist\":np.zeros((len(df), len(df)))\n",
    "}\n",
    "\n",
    "# load the embeddings into a matrix\n",
    "print(\"Loading embeddings...\")\n",
    "embeddings = df[[col for col in df.columns if \"embedding\" in col]].to_numpy()\n",
    "\n",
    "# add edges to the graph\n",
    "print(\"Computing similarities...\")\n",
    "progress = tqdm.tqdm(total=len(df))\n",
    "for i in range(len(df)):\n",
    "    for j in range(i+1, len(df)):\n",
    "\n",
    "        # get the embeddings of the two nodes\n",
    "        X = embeddings[i]\n",
    "        Y = embeddings[j]\n",
    "\n",
    "        # compute the similarity between the two nodes using cosine similarity and euclidean distance and chebyshev distance\n",
    "        cos_sim = cosine(X, Y)\n",
    "        euc_dist = euclidean(X, Y)\n",
    "        cheb_dist = chebyshev(X, Y)\n",
    "\n",
    "        # save the similarity matrices\n",
    "        sim_dic[\"cos_sim\"][i, j] = cos_sim\n",
    "        sim_dic[\"euc_dist\"][i, j] = euc_dist\n",
    "        sim_dic[\"cheb_dist\"][i, j] = cheb_dist\n",
    "\n",
    "    # update the progress bar\n",
    "    progress.update(1)\n",
    "\n",
    "# close the progress bar\n",
    "progress.close()"
   ]
  },
  {
   "cell_type": "code",
   "execution_count": null,
   "metadata": {},
   "outputs": [],
   "source": [
    "# save the similarity matrices\n",
    "np.save(\"data/sim/cos_sim.npy\", sim_dic[\"cos_sim\"])\n",
    "np.save(\"data/sim/euc_dist.npy\", sim_dic[\"euc_dist\"])\n",
    "np.save(\"data/sim/cheb_dist.npy\", sim_dic[\"cheb_dist\"])"
   ]
  },
  {
   "cell_type": "code",
   "execution_count": null,
   "metadata": {},
   "outputs": [],
   "source": [
    "# for each similarity matrix, plot the distribution of the similarities\n",
    "for sim in sim_dic.keys():\n",
    "\n",
    "    matrix = sim_dic[sim]\n",
    "\n",
    "    # Flatten the matrix and remove diagonal elements\n",
    "    values = matrix[np.triu_indices_from(matrix, k=1)]\n",
    "\n",
    "    # Create the plot\n",
    "    plt.figure(figsize=(10, 6))\n",
    "    sns.histplot(values, kde=True, bins=30)\n",
    "    plt.title('Distribution of ' + sim + ' values')\n",
    "    plt.xlabel('Similarity Value')\n",
    "    plt.ylabel('Frequency')\n",
    "\n",
    "    # Save the plot to a file\n",
    "    plt.savefig('figures/dist/' + sim + '_distribution.png', dpi=300)\n",
    "    plt.close()"
   ]
  },
  {
   "cell_type": "code",
   "execution_count": null,
   "metadata": {},
   "outputs": [],
   "source": [
    "# for each similarity matrix, plot the heatmap of the similarities\n",
    "for sim in sim_dic.keys():\n",
    "\n",
    "    matrix = sim_dic[sim]\n",
    "\n",
    "    # Create the plot\n",
    "    plt.figure(figsize=(10, 6))\n",
    "    sns.heatmap(matrix, cmap='viridis')\n",
    "    plt.title('Heatmap of ' + sim + ' values')\n",
    "    plt.xlabel('Node ID')\n",
    "    plt.ylabel('Node ID')\n",
    "\n",
    "    # Save the plot to a file\n",
    "    plt.savefig('figures/heat/' + sim + '_heatmap.png', dpi=300)\n",
    "    plt.close()"
   ]
  },
  {
   "cell_type": "markdown",
   "metadata": {},
   "source": [
    "# Creating Graph"
   ]
  },
  {
   "cell_type": "code",
   "execution_count": null,
   "metadata": {},
   "outputs": [],
   "source": [
    "import pandas as pd\n",
    "import numpy as np\n",
    "import networkx as nx\n",
    "from tqdm import tqdm"
   ]
  },
  {
   "cell_type": "code",
   "execution_count": null,
   "metadata": {},
   "outputs": [],
   "source": [
    "df = pd.read_csv(\"data/csv/data_resampled.csv\")\n",
    "distance_matrix = np.load(\"data/sim/euc_dist.npy\")"
   ]
  },
  {
   "cell_type": "code",
   "execution_count": null,
   "metadata": {},
   "outputs": [],
   "source": [
    "# create a graph\n",
    "G = nx.Graph()\n",
    "\n",
    "# add nodes to the graph\n",
    "print(\"Adding nodes to the graph...\")\n",
    "for i in tqdm(range(len(df))):\n",
    "    G.add_node(i)\n",
    "\n",
    "# make the VAP column the labels of the nodes\n",
    "print(\"Adding labels to the nodes...\")\n",
    "labels = df[\"VAP\"].to_dict()\n",
    "nx.set_node_attributes(G, labels, \"VAP\")"
   ]
  },
  {
   "cell_type": "code",
   "execution_count": null,
   "metadata": {},
   "outputs": [],
   "source": [
    "n = 20\n",
    "\n",
    "# add edges to the graph\n",
    "for i in tqdm(range(len(df))):\n",
    "\n",
    "    # get top n most similar nodes\n",
    "    top_n = np.argsort(distance_matrix[i])[1:n+1]\n",
    "\n",
    "    # add edges between the node and the top n most similar nodes\n",
    "    for j in top_n:\n",
    "        if i != j:\n",
    "            G.add_edge(i, j)"
   ]
  },
  {
   "cell_type": "code",
   "execution_count": null,
   "metadata": {},
   "outputs": [],
   "source": [
    "# save the graph\n",
    "print(\"Saving the graph...\")\n",
    "nx.write_gexf(G, \"data/graphs/graph.gexf\")"
   ]
  },
  {
   "cell_type": "markdown",
   "metadata": {},
   "source": [
    "# Creating Graph Data"
   ]
  },
  {
   "cell_type": "code",
   "execution_count": 63,
   "metadata": {},
   "outputs": [],
   "source": [
    "import pandas as pd\n",
    "import numpy as np\n",
    "from tqdm import tqdm\n",
    "import networkx as nx\n",
    "import torch\n",
    "from torch_geometric.utils import from_networkx"
   ]
  },
  {
   "cell_type": "code",
   "execution_count": 64,
   "metadata": {},
   "outputs": [],
   "source": [
    "device = torch.device(\"cuda\" if torch.cuda.is_available() else \"cpu\")"
   ]
  },
  {
   "cell_type": "code",
   "execution_count": 65,
   "metadata": {},
   "outputs": [],
   "source": [
    "# load the graph and df\n",
    "G = nx.read_gexf(\"data/graphs/graph.gexf\")\n",
    "df = pd.read_csv(\"data/csv/data_resampled.csv\")"
   ]
  },
  {
   "cell_type": "code",
   "execution_count": 66,
   "metadata": {},
   "outputs": [
    {
     "name": "stdout",
     "output_type": "stream",
     "text": [
      "Adding features to the nodes...\n"
     ]
    },
    {
     "name": "stderr",
     "output_type": "stream",
     "text": [
      "100%|██████████| 5588/5588 [00:02<00:00, 2442.48it/s]\n"
     ]
    }
   ],
   "source": [
    "# add features to the nodes\n",
    "print(\"Adding features to the nodes...\")\n",
    "for node in tqdm(G.nodes(data=True)):\n",
    "    node_id = int(node[0])\n",
    "\n",
    "    node_features = df.iloc[node_id][[col for col in df.columns if \"embedding\" in col]].to_numpy()\n",
    "\n",
    "    # add the node features to the graph\n",
    "    node[1][\"features\"] = torch.tensor(node_features, dtype=torch.float)"
   ]
  },
  {
   "cell_type": "code",
   "execution_count": 67,
   "metadata": {},
   "outputs": [
    {
     "name": "stdout",
     "output_type": "stream",
     "text": [
      "Converting the graph to a PyG data object\n"
     ]
    }
   ],
   "source": [
    "print(\"Converting the graph to a PyG data object\")\n",
    "data = from_networkx(G)"
   ]
  },
  {
   "cell_type": "code",
   "execution_count": 68,
   "metadata": {},
   "outputs": [],
   "source": [
    "# load the data onto the device\n",
    "data = data.to(device)"
   ]
  },
  {
   "cell_type": "code",
   "execution_count": 69,
   "metadata": {},
   "outputs": [
    {
     "name": "stdout",
     "output_type": "stream",
     "text": [
      "Data(edge_index=[2, 223416], VAP=[5588], label=[5588], features=[5588, 200], id=[223416], mode='static', num_nodes=5588)\n"
     ]
    }
   ],
   "source": [
    "print(data)"
   ]
  },
  {
   "cell_type": "code",
   "execution_count": 70,
   "metadata": {},
   "outputs": [],
   "source": [
    "# create training and testing masks\n",
    "ration = 0.2\n",
    "\n",
    "# get the number of nodes\n",
    "num_nodes = data.num_nodes\n",
    "\n",
    "# get the indices of the nodes\n",
    "node_indices = list(range(num_nodes))\n",
    "\n",
    "# shuffle the indices\n",
    "np.random.shuffle(node_indices)\n",
    "\n",
    "# get the number of training nodes\n",
    "num_train = int(ration * num_nodes)\n",
    "\n",
    "# get the training indices\n",
    "train_indices = node_indices[:num_train]\n",
    "\n",
    "# get the testing indices\n",
    "test_indices = node_indices[num_train:]\n",
    "\n",
    "# create the training mask\n",
    "train_mask = torch.zeros(num_nodes, dtype=torch.bool)\n",
    "train_mask[train_indices] = True\n",
    "\n",
    "# create the testing mask\n",
    "test_mask = torch.zeros(num_nodes, dtype=torch.bool)\n",
    "test_mask[test_indices] = True\n",
    "\n",
    "# load the masks onto the device\n",
    "train_mask = train_mask.to(device)\n",
    "test_mask = test_mask.to(device)"
   ]
  },
  {
   "cell_type": "markdown",
   "metadata": {},
   "source": [
    "# Models"
   ]
  },
  {
   "cell_type": "markdown",
   "metadata": {},
   "source": [
    "## GCN"
   ]
  },
  {
   "cell_type": "code",
   "execution_count": 71,
   "metadata": {},
   "outputs": [],
   "source": [
    "# import torch\n",
    "# import torch.nn.functional as F\n",
    "# import torch.optim as optim\n",
    "# from torch_geometric.nn import GCNConv, GATConv\n",
    "# import matplotlib.pyplot as plt\n",
    "# from tqdm import tqdm\n",
    "# from time import time"
   ]
  },
  {
   "cell_type": "code",
   "execution_count": 72,
   "metadata": {},
   "outputs": [],
   "source": [
    "# class GCN(torch.nn.Module):\n",
    "#     def __init__(self, hidden_channels=128, lr=0.001, weight_decay=5e-6):\n",
    "#         super(GCN, self).__init__()\n",
    "#         torch.manual_seed(1234567)\n",
    "#         self.conv1 = GCNConv(200, hidden_channels)\n",
    "#         self.conv2 = GCNConv(hidden_channels, 2)\n",
    "\n",
    "#         # initialize the optimizer\n",
    "#         self.optimizer = optim.Adam(self.parameters(), lr=lr, weight_decay=weight_decay)\n",
    "\n",
    "#         # initialize the loss function\n",
    "#         self.criterion = torch.nn.CrossEntropyLoss()\n",
    "        \n",
    "#         # copy the model to the device\n",
    "#         self.to(device)\n",
    "\n",
    "#     def forward(self, x, edge_index):\n",
    "#         x = self.conv1(x, edge_index)\n",
    "#         x = F.relu(x)\n",
    "#         x = F.dropout(x, p=0.5, training=self.training)\n",
    "#         x = self.conv2(x, edge_index)\n",
    "#         return x\n",
    "\n",
    "#     def fit(self, data, mask, epochs, stop_acc=None):\n",
    "\n",
    "#         print(\"Number of training nodes: \", mask.sum())\n",
    "#         history = []\n",
    "\n",
    "#         progress = tqdm(total=epochs)\n",
    "#         for i in range(epochs):\n",
    "\n",
    "#             # put the model in training mode\n",
    "#             self.train()\n",
    "#             self.optimizer.zero_grad()\n",
    "\n",
    "#             out = self(data.features, data.edge_index)\n",
    "#             loss = self.criterion(out[mask], data.VAP[mask]) / mask.sum().float()\n",
    "\n",
    "#             # compute the training accuracy\n",
    "#             pred = out.argmax(dim=1)\n",
    "#             correct = pred[mask] == data.VAP[mask]\n",
    "#             train_acc = int(correct.sum()) / int(len(correct))\n",
    "\n",
    "#             # backpropagate the loss\n",
    "#             loss.backward()\n",
    "#             self.optimizer.step()\n",
    "\n",
    "#             # update the progress bar\n",
    "#             progress.set_description(\"Loss: {}, Train Acc: {}\".format(loss, train_acc))\n",
    "#             progress.update(1)\n",
    "\n",
    "#             # append the loss and accuracy to the history\n",
    "#             history.append([loss, train_acc])\n",
    "\n",
    "#             # if the stop_acc is not None and the training accuracy is greater than or equal to the stop_acc, stop training\n",
    "#             if stop_acc is not None and train_acc >= stop_acc:\n",
    "#                 print(\"Training accuracy reached stop_acc, stopping training...\")\n",
    "#                 break\n",
    "\n",
    "#         return history\n",
    "    \n",
    "#     def test(self, data, mask):\n",
    "\n",
    "#         print(\"Number of testing nodes: \", mask.sum())\n",
    "            \n",
    "#         # put the model in eval mode\n",
    "#         self.eval()\n",
    "\n",
    "#         # get the predictions\n",
    "#         out = self(data.features, data.edge_index)\n",
    "\n",
    "#         # compute the test accuracy\n",
    "#         pred = out.argmax(dim=1)\n",
    "#         correct = pred[mask] == data.VAP[mask]\n",
    "#         test_acc = int(correct.sum()) / int(len(correct))\n",
    "\n",
    "#         return test_acc"
   ]
  },
  {
   "cell_type": "code",
   "execution_count": 73,
   "metadata": {},
   "outputs": [],
   "source": [
    "# # create the model\n",
    "# model = GCN(\n",
    "#     hidden_channels=128,\n",
    "#     lr=0.001,\n",
    "#     weight_decay=5e-6\n",
    "# )\n",
    "# print(model)"
   ]
  },
  {
   "cell_type": "code",
   "execution_count": 74,
   "metadata": {},
   "outputs": [],
   "source": [
    "# # train the model\n",
    "# history = model.fit(data,\n",
    "#     train_mask,\n",
    "#     epochs=5000,\n",
    "#     stop_acc=0.97\n",
    "# )"
   ]
  },
  {
   "cell_type": "code",
   "execution_count": 75,
   "metadata": {},
   "outputs": [],
   "source": [
    "# # get the loss and accuracy\n",
    "# loss = [i[0].cpu().detach().numpy() for i in history]\n",
    "# acc = [i[1] for i in history]\n",
    "\n",
    "# print(\"Max accuracy: \", max(acc))\n",
    "# print(\"Min loss: \", min(loss))\n",
    "\n",
    "# # plot and show the loss and accuracy without saving\n",
    "# plt.figure(figsize=(10, 6))\n",
    "# plt.plot(loss)\n",
    "# plt.title(\"Loss\")\n",
    "# plt.xlabel(\"Epoch\")\n",
    "# plt.ylabel(\"Loss\")\n",
    "# plt.show()\n",
    "\n",
    "# plt.figure(figsize=(10, 6))\n",
    "# plt.plot(acc)\n",
    "# plt.title(\"Accuracy\")\n",
    "# plt.xlabel(\"Epoch\")\n",
    "# plt.ylabel(\"Accuracy\")\n",
    "# plt.show()"
   ]
  },
  {
   "cell_type": "code",
   "execution_count": 76,
   "metadata": {},
   "outputs": [],
   "source": [
    "# # test the model\n",
    "# test_acc = model.test(data,\n",
    "#                       test_mask\n",
    "# )\n",
    "# print(\"Test accuracy: \", test_acc)"
   ]
  },
  {
   "cell_type": "markdown",
   "metadata": {},
   "source": [
    "## GAT"
   ]
  },
  {
   "cell_type": "code",
   "execution_count": 77,
   "metadata": {},
   "outputs": [],
   "source": [
    "# class GAT(torch.nn.Module):\n",
    "#     def __init__(self, hidden_channels=128, lr=0.001, weight_decay=5e-6):\n",
    "#         super().__init__()\n",
    "#         torch.manual_seed(1234567)\n",
    "#         self.conv1 = GATConv(-1, hidden_channels, heads=8)\n",
    "#         self.conv2 = GATConv(hidden_channels * 8, 2, heads=1)\n",
    "\n",
    "#         # initialize the optimizer\n",
    "#         self.optimizer = optim.Adam(self.parameters(), lr=lr, weight_decay=weight_decay)\n",
    "\n",
    "#         # initialize the loss function\n",
    "#         self.criterion = torch.nn.CrossEntropyLoss()\n",
    "\n",
    "#         # copy the model to the device\n",
    "#         self.to(device)\n",
    "\n",
    "#     def forward(self, x, edge_index):\n",
    "#         x = F.dropout(x, p=0.6, training=self.training)\n",
    "#         x = self.conv1(x, edge_index)\n",
    "#         x = F.elu(x)\n",
    "#         x = F.dropout(x, p=0.6, training=self.training)\n",
    "#         x = self.conv2(x, edge_index)\n",
    "#         return x\n",
    "\n",
    "#     def fit(self, data, mask, epochs, stop_acc=None):\n",
    "\n",
    "#         # print(\"Number of training nodes: \", mask.sum())\n",
    "#         history = []\n",
    "\n",
    "#         progress = tqdm(total=epochs)\n",
    "#         for _ in range(epochs):\n",
    "\n",
    "#             # put the model in training mode\n",
    "#             self.train()\n",
    "#             self.optimizer.zero_grad()\n",
    "\n",
    "#             out = self(data.features, data.edge_index)\n",
    "#             loss = self.criterion(out[mask], data.VAP[mask]) / mask.sum().float()\n",
    "\n",
    "#             # compute the training accuracy\n",
    "#             pred = out.argmax(dim=1)\n",
    "#             correct = pred[mask] == data.VAP[mask]\n",
    "#             train_acc = int(correct.sum()) / int(len(correct))\n",
    "\n",
    "#             # backpropagate the loss\n",
    "#             loss.backward()\n",
    "#             self.optimizer.step()\n",
    "\n",
    "#             # append the loss and accuracy to the history\n",
    "#             history.append([loss, train_acc])\n",
    "\n",
    "#             # update the progress bar\n",
    "#             progress.set_description(\"Loss: {}, Train Acc: {}\".format(loss, train_acc))\n",
    "#             progress.update(1)\n",
    "\n",
    "#             # if the stop_acc is not None and the training accuracy is greater than or equal to the stop_acc, stop training\n",
    "#             if stop_acc is not None and train_acc >= stop_acc:\n",
    "#                 print(\"Training accuracy reached stop_acc, stopping training...\")\n",
    "#                 break\n",
    "\n",
    "#         return history\n",
    "\n",
    "#     def test(self, data, mask):\n",
    "\n",
    "#         # print(\"Number of testing nodes: \", mask.sum())\n",
    "            \n",
    "#         # put the model in eval mode\n",
    "#         self.eval()\n",
    "\n",
    "#         # get the predictions\n",
    "#         out = self(data.features, data.edge_index)\n",
    "\n",
    "#         # compute the test accuracy\n",
    "#         pred = out.argmax(dim=1)\n",
    "#         correct = pred[mask] == data.VAP[mask]\n",
    "#         test_acc = int(correct.sum()) / int(len(correct))\n",
    "\n",
    "#         return test_acc"
   ]
  },
  {
   "cell_type": "code",
   "execution_count": 78,
   "metadata": {},
   "outputs": [],
   "source": [
    "# # create the model\n",
    "# model_GAT = GAT(\n",
    "#     hidden_channels=128,\n",
    "#     lr=0.001,\n",
    "#     weight_decay=5e-6\n",
    "# )\n",
    "# print(model_GAT)"
   ]
  },
  {
   "cell_type": "code",
   "execution_count": 79,
   "metadata": {},
   "outputs": [],
   "source": [
    "# # train the model\n",
    "# history_GAT = model_GAT.fit(data,\n",
    "#     train_mask,\n",
    "#     epochs=5000,\n",
    "#     stop_acc=None\n",
    "# )"
   ]
  },
  {
   "cell_type": "code",
   "execution_count": 80,
   "metadata": {},
   "outputs": [],
   "source": [
    "# # get the loss and accuracy\n",
    "# loss = [i[0].cpu().detach().numpy() for i in history_GAT]\n",
    "# acc = [i[1] for i in history_GAT]\n",
    "\n",
    "# print(\"Max accuracy: \", max(acc))\n",
    "# print(\"Min loss: \", min(loss))\n",
    "\n",
    "# # plot and show the loss and accuracy without saving\n",
    "# plt.figure(figsize=(10, 6))\n",
    "# plt.plot(loss)\n",
    "# plt.title(\"Loss\")\n",
    "# plt.xlabel(\"Epoch\")\n",
    "# plt.ylabel(\"Loss\")\n",
    "# plt.show()\n",
    "\n",
    "# plt.figure(figsize=(10, 6))\n",
    "# plt.plot(acc)\n",
    "# plt.title(\"Accuracy\")\n",
    "# plt.xlabel(\"Epoch\")\n",
    "# plt.ylabel(\"Accuracy\")\n",
    "# plt.show()"
   ]
  },
  {
   "cell_type": "markdown",
   "metadata": {},
   "source": [
    "# Finetuning Using Genetic Algorithms"
   ]
  },
  {
   "cell_type": "code",
   "execution_count": 81,
   "metadata": {},
   "outputs": [],
   "source": [
    "import torch\n",
    "import numpy as np\n",
    "import torch.nn.functional as F\n",
    "import torch.optim as optim\n",
    "from torch_geometric.nn import GCNConv\n",
    "import matplotlib.pyplot as plt\n",
    "from tqdm import tqdm\n",
    "import pickle\n",
    "import random"
   ]
  },
  {
   "cell_type": "code",
   "execution_count": 82,
   "metadata": {},
   "outputs": [],
   "source": [
    "class GCN(torch.nn.Module):\n",
    "    \n",
    "    def __init__(self, hidden_channels, lr, weight_decay, dropout, activation_function, optimizer):\n",
    "        super(GCN, self).__init__()\n",
    "        torch.manual_seed(1972)\n",
    "        self.conv1 = GCNConv(200, hidden_channels)\n",
    "        self.conv2 = GCNConv(hidden_channels, 2)\n",
    "        \n",
    "        # set the activation function\n",
    "        if activation_function == \"relu\":\n",
    "            self.activation_function = F.relu\n",
    "        elif activation_function == \"elu\":\n",
    "            self.activation_function = F.elu\n",
    "        elif activation_function == \"leaky_relu\":\n",
    "            self.activation_function = F.leaky_relu\n",
    "        elif activation_function == \"sigmoid\":\n",
    "            self.activation_function = torch.sigmoid\n",
    "        elif activation_function == \"tanh\":\n",
    "            self.activation_function = torch.tanh\n",
    "        else:\n",
    "            raise Exception(\"Invalid activation function\")\n",
    "        \n",
    "        # set the dropout\n",
    "        self.dropout = dropout\n",
    "\n",
    "        # initialize the loss function\n",
    "        self.criterion = torch.nn.CrossEntropyLoss()\n",
    "\n",
    "        # keep track of the maximum accuracy and minimum loss\n",
    "        self.min_loss = float(\"inf\")\n",
    "        self.max_acc = 0\n",
    "        \n",
    "        # copy the model to the device\n",
    "        self.to(device)\n",
    "\n",
    "        # initialize the optimizer AFTER copying the model to the device!!!!\n",
    "        if optimizer == \"adam\":\n",
    "            self.optimizer = optim.Adam(self.parameters(), lr=lr, weight_decay=weight_decay)\n",
    "        elif optimizer == \"sgd\":\n",
    "            self.optimizer = optim.SGD(self.parameters(), lr=lr, weight_decay=weight_decay)\n",
    "        elif optimizer == \"rmsprop\":\n",
    "            self.optimizer = optim.RMSprop(self.parameters(), lr=lr, weight_decay=weight_decay)\n",
    "        elif optimizer == \"adagrad\":\n",
    "            self.optimizer = optim.Adagrad(self.parameters(), lr=lr, weight_decay=weight_decay)\n",
    "        elif optimizer == \"nadam\":\n",
    "            self.optimizer = optim.NAdam(self.parameters(), lr=lr, weight_decay=weight_decay)\n",
    "        else:\n",
    "            raise Exception(\"Invalid optimizer\")\n",
    "\n",
    "    def forward(self, x, edge_index):\n",
    "        x = self.conv1(x, edge_index)\n",
    "        x = self.activation_function(x)\n",
    "        x = F.dropout(x, p=self.dropout, training=self.training)\n",
    "        x = self.conv2(x, edge_index)\n",
    "        return x\n",
    "\n",
    "    def fit(self, data, mask, epochs, stop_acc=None):\n",
    "\n",
    "        history = []\n",
    "\n",
    "        progress = tqdm(total=epochs)\n",
    "        for i in range(epochs):\n",
    "\n",
    "            # put the model in training mode\n",
    "            self.train()\n",
    "            self.optimizer.zero_grad()\n",
    "\n",
    "            out = self(data.features, data.edge_index)\n",
    "            loss = self.criterion(out[mask], data.VAP[mask]) / mask.sum().float()\n",
    "\n",
    "            # compute the training accuracy\n",
    "            pred = out.argmax(dim=1)\n",
    "            correct = pred[mask] == data.VAP[mask]\n",
    "            train_acc = int(correct.sum()) / int(len(correct))\n",
    "\n",
    "            # backpropagate the loss\n",
    "            loss.backward()\n",
    "            self.optimizer.step()\n",
    "\n",
    "            # update the progress bar\n",
    "            progress.set_description(\"Loss: {}, Acc: {}\".format(loss, train_acc))\n",
    "            progress.update(1)\n",
    "\n",
    "            # append the loss and accuracy to the history\n",
    "            history.append([loss, train_acc])\n",
    "\n",
    "            # update the max accuracy\n",
    "            if train_acc > self.max_acc:\n",
    "                self.max_acc = train_acc\n",
    "            \n",
    "            # update the min loss\n",
    "            if loss < self.min_loss:\n",
    "                self.min_loss = loss\n",
    "\n",
    "            # if the stop_acc is not None and the training accuracy is greater than or equal to the stop_acc, stop training\n",
    "            if stop_acc is not None and train_acc >= stop_acc:\n",
    "                print(\"Training accuracy reached stop_acc, stopping training...\")\n",
    "                break\n",
    "        \n",
    "        # close the progress bar\n",
    "        progress.set_description(f\"Min loss: {self.min_loss}, Max acc: {self.max_acc}\")\n",
    "        progress.close()\n",
    "\n",
    "        return history\n",
    "    \n",
    "    def test(self, data, mask):\n",
    "\n",
    "        # put the model in eval mode\n",
    "        self.eval()\n",
    "\n",
    "        # get the predictions\n",
    "        out = self(data.features, data.edge_index)\n",
    "\n",
    "        # compute the test accuracy\n",
    "        pred = out.argmax(dim=1)\n",
    "        correct = pred[mask] == data.VAP[mask]\n",
    "        test_acc = int(correct.sum()) / int(len(correct))\n",
    "\n",
    "        return test_acc"
   ]
  },
  {
   "cell_type": "code",
<<<<<<< HEAD
   "execution_count": 85,
=======
   "execution_count": 29,
>>>>>>> d294f8f3fe43eca3d64cd7d83803a4faa9bef0bf
   "metadata": {},
   "outputs": [],
   "source": [
    "# Tuner class for GCN hyperparameters\n",
    "class GCNTuner:\n",
    "\n",
    "    def __init__(self, population_size=50, generations=100, mutation_rate=0.1, epochs=5000):\n",
    "\n",
    "        self.population_size = population_size\n",
    "        self.generations = generations\n",
    "        self.mutation_rate = mutation_rate\n",
    "\n",
    "        self.epochs = epochs\n",
    "\n",
    "        # define the lists of hyperparameters to choose from\n",
    "        self.hidden_channels = [128, 256, 512, 1024]\n",
    "        self.lr = np.arange(0.00001, 0.001, 0.00005)\n",
    "        self.weight_decay = np.arange(0.0000001, 0.00001, 0.0000005)\n",
    "        self.dropout = np.arange(0.0001, 0.01, 0.0005)\n",
    "        self.activation_function = ['relu', 'tanh', 'sigmoid', 'leaky_relu', 'elu']\n",
    "        self.optimizer = ['adam', 'sgd', 'rmsprop', \"adagrad\"]\n",
    "\n",
    "        # print the len of each list\n",
    "        print(\"Running the genetic algorithm with the following hyperparameters:\")\n",
    "        print(\"Hidden channels: \", len(self.hidden_channels))\n",
    "        print(\"Learning rates: \", len(self.lr))\n",
    "        print(\"Weight decays: \", len(self.weight_decay))\n",
    "        print(\"Dropouts: \", len(self.dropout))\n",
    "        print(\"Activation functions: \", len(self.activation_function))\n",
    "        print(\"Optimizers: \", len(self.optimizer))\n",
    "        print(\"=====================================\")\n",
    "\n",
    "    \n",
    "    def create_individual(self):\n",
    "            \n",
    "        # initialize the hyperparameters\n",
    "        hidden_channels = np.random.choice(self.hidden_channels)\n",
    "        lr = np.random.choice(self.lr)\n",
    "        weight_decay = np.random.choice(self.weight_decay)\n",
    "        dropout = np.random.choice(self.dropout)\n",
    "        activation_function = np.random.choice(self.activation_function)\n",
    "        optimizer = np.random.choice(self.optimizer)\n",
    "\n",
    "        # create the individual\n",
    "        individual = {\n",
    "            \"hidden_channels\": hidden_channels,\n",
    "            \"lr\": lr,\n",
    "            \"weight_decay\": weight_decay,\n",
    "            \"dropout\": dropout,\n",
    "            \"activation_function\": activation_function,\n",
    "            \"optimizer\": optimizer\n",
    "        }\n",
    "\n",
    "        return individual\n",
    "\n",
    "    def compute_fitness(self, individual):\n",
    "        # Initialize the model with the individual's hyperparameters\n",
    "        model = GCN(\n",
    "            hidden_channels=individual[\"hidden_channels\"],\n",
    "            lr=individual[\"lr\"],\n",
    "            weight_decay=individual[\"weight_decay\"],\n",
    "            dropout=individual[\"dropout\"],\n",
    "            activation_function=individual[\"activation_function\"],\n",
    "            optimizer=individual[\"optimizer\"]\n",
    "        )\n",
    "\n",
    "        # Train the model and evaluate it\n",
    "        model.fit(data, train_mask, self.epochs)\n",
    "        \n",
    "        # get the max accuracy\n",
    "        return model.max_acc\n",
    "\n",
    "    def mutate(self, individual):\n",
    "        \n",
    "        if np.random.random() < self.mutation_rate:\n",
    "            individual[\"hidden_channels\"] = np.random.choice(self.hidden_channels)\n",
    "        if np.random.random() < self.mutation_rate:\n",
    "            individual[\"lr\"] = np.random.choice(self.lr)\n",
    "        if np.random.random() < self.mutation_rate:\n",
    "            individual[\"weight_decay\"] = np.random.choice(self.weight_decay)\n",
    "        if np.random.random() < self.mutation_rate:\n",
    "            individual[\"dropout\"] = np.random.choice(self.dropout)\n",
    "        if np.random.random() < self.mutation_rate:\n",
    "            individual[\"activation_function\"] = np.random.choice(self.activation_function)\n",
    "        if np.random.random() < self.mutation_rate:\n",
    "            individual[\"optimizer\"] = np.random.choice(self.optimizer)\n",
    "        return individual\n",
    "\n",
    "    def crossover(self, parent1, parent2):\n",
    "        child = {}\n",
    "        for key in parent1:\n",
    "            child[key] = parent1[key] if np.random.random() > 0.5 else parent2[key]\n",
    "        return child\n",
    "\n",
    "    def optimize(self):\n",
    "        print(\"Populating...\")\n",
    "        population = [self.create_individual() for _ in range(self.population_size)]\n",
    "\n",
    "        # store the best individual and the best fitness across all generations\n",
    "        best_individual = None\n",
    "        best_acc = 0\n",
    "\n",
    "        print(\"Evolving...\")\n",
    "        for generation in range(self.generations):\n",
    "\n",
    "            print(f\"Generation {generation + 1} out of {self.generations}\")\n",
    "\n",
    "            # Compute the max loss and the min accuracy for each individual in the population\n",
    "            fitnesses = [self.compute_fitness(individual) for individual in population]\n",
    "\n",
    "            # Sort the population based on fitness\n",
    "            # we're using the min loss as the fitness\n",
    "            sorted_population = [x for _, x in sorted(zip(fitnesses, population), key=lambda pair: pair[0], reverse=True)]\n",
    "\n",
    "            # Next generation starts with the top performers (elitism)\n",
    "            next_generation = sorted_population[:2]\n",
    "\n",
    "            # Update the best individual and the best fitness\n",
    "            if fitnesses[0] > best_acc:\n",
    "                best_acc = fitnesses[0]\n",
    "                best_individual = population[0]\n",
    "\n",
    "            # Fill the rest of the next generation with offspring of selected individuals\n",
    "            while len(next_generation) < self.population_size:\n",
    "                parents = random.sample(sorted_population[:10], 2)  # Tournament selection\n",
    "                child = self.crossover(parents[0], parents[1])\n",
    "                child = self.mutate(child)\n",
    "                next_generation.append(child)\n",
    "\n",
    "            population = next_generation\n",
    "\n",
    "            # print the mean of the accuracies of the population\n",
    "            print(\"Mean accuracy: \", np.mean(fitnesses))\n",
    "\n",
    "        # Compute fitness for each individual in the final population\n",
    "        print(\"Computing fitnesses for the final population...\")\n",
    "        fitnesses = [self.compute_fitness(individual) for individual in population]\n",
    "\n",
    "        # update the best individual and the best fitness\n",
    "        if fitnesses[0] > best_acc:\n",
    "            best_acc = fitnesses[0]\n",
    "            best_individual = population[0]\n",
    "\n",
    "        # return the best individual and the best fitness\n",
    "        return best_individual, best_acc\n",
    "    \n",
    "    def run(self):\n",
    "\n",
    "        # run the genetic algorithm\n",
    "        print(\"Running the genetic algorithm...\")\n",
    "        best_individual, best_acc = self.optimize()\n",
    "\n",
    "        # print the best individual and the best fitness\n",
    "        print(\"=====================================\")\n",
    "        print(\"Best model found with the following hyperparameters:\")\n",
    "        print(\"Best accuracy: \", best_acc)\n",
    "        print(\"Best individual: \", best_individual)\n",
    "\n",
    "        # initialize the model with the best individual's hyperparameters\n",
    "        model = GCN(\n",
    "            hidden_channels=best_individual[\"hidden_channels\"],\n",
    "            lr=best_individual[\"lr\"],\n",
    "            weight_decay=best_individual[\"weight_decay\"],\n",
    "            dropout=best_individual[\"dropout\"],\n",
    "            activation_function=best_individual[\"activation_function\"],\n",
    "            optimizer=best_individual[\"optimizer\"]\n",
    "        )\n",
    "\n",
    "        # floor down the best fitness down to 4 decimal places\n",
    "        best_acc = np.floor(best_acc * 10000) / 10000\n",
    "\n",
    "        # train a new model with the best individual's hyperparameters and the stop_acc set to the best fitness\n",
    "        print(\"Training new model with the best individual's hyperparameters...\")\n",
    "        hist = model.fit(data, train_mask, self.epochs, stop_acc=best_acc)\n",
    "\n",
    "        # get the test accuracy\n",
    "        test_acc = model.test(data, test_mask)\n",
    "\n",
    "        # return the model, the best individual, the best fitness, the test accuracy and the history\n",
    "        return model, best_individual, best_acc, test_acc, hist"
   ]
  },
  {
   "cell_type": "code",
<<<<<<< HEAD
   "execution_count": 87,
=======
   "execution_count": 30,
>>>>>>> d294f8f3fe43eca3d64cd7d83803a4faa9bef0bf
   "metadata": {},
   "outputs": [
    {
     "name": "stdout",
     "output_type": "stream",
     "text": [
      "Running the genetic algorithm with the following hyperparameters:\n",
      "Hidden channels:  4\n",
      "Learning rates:  20\n",
      "Weight decays:  20\n",
      "Dropouts:  20\n",
      "Activation functions:  5\n",
      "Optimizers:  4\n",
      "=====================================\n",
      "Running the genetic algorithm...\n",
      "Populating...\n",
      "Evolving...\n",
      "Generation 1 out of 10\n"
     ]
    },
    {
     "name": "stderr",
     "output_type": "stream",
     "text": []
    },
    {
     "ename": "KeyboardInterrupt",
     "evalue": "",
     "output_type": "error",
     "traceback": [
      "\u001b[1;31m---------------------------------------------------------------------------\u001b[0m",
      "\u001b[1;31mKeyboardInterrupt\u001b[0m                         Traceback (most recent call last)",
      "Cell \u001b[1;32mIn[30], line 3\u001b[0m\n\u001b[0;32m      1\u001b[0m \u001b[38;5;66;03m# create a tuner and run it\u001b[39;00m\n\u001b[0;32m      2\u001b[0m tuner \u001b[38;5;241m=\u001b[39m GCNTuner(population_size\u001b[38;5;241m=\u001b[39m\u001b[38;5;241m5\u001b[39m, generations\u001b[38;5;241m=\u001b[39m\u001b[38;5;241m11\u001b[39m, mutation_rate\u001b[38;5;241m=\u001b[39m\u001b[38;5;241m0.2\u001b[39m, epochs\u001b[38;5;241m=\u001b[39m\u001b[38;5;241m2000\u001b[39m)\n\u001b[1;32m----> 3\u001b[0m model, best_individual, best_loss, best_acc, test_acc, hist \u001b[38;5;241m=\u001b[39m \u001b[43mtuner\u001b[49m\u001b[38;5;241;43m.\u001b[39;49m\u001b[43mrun\u001b[49m\u001b[43m(\u001b[49m\u001b[43m)\u001b[49m\n",
      "Cell \u001b[1;32mIn[29], line 152\u001b[0m, in \u001b[0;36mGCNTuner.run\u001b[1;34m(self)\u001b[0m\n\u001b[0;32m    148\u001b[0m \u001b[38;5;28;01mdef\u001b[39;00m \u001b[38;5;21mrun\u001b[39m(\u001b[38;5;28mself\u001b[39m):\n\u001b[0;32m    149\u001b[0m \n\u001b[0;32m    150\u001b[0m     \u001b[38;5;66;03m# run the genetic algorithm\u001b[39;00m\n\u001b[0;32m    151\u001b[0m     \u001b[38;5;28mprint\u001b[39m(\u001b[38;5;124m\"\u001b[39m\u001b[38;5;124mRunning the genetic algorithm...\u001b[39m\u001b[38;5;124m\"\u001b[39m)\n\u001b[1;32m--> 152\u001b[0m     best_individual, best_loss, best_acc \u001b[38;5;241m=\u001b[39m \u001b[38;5;28;43mself\u001b[39;49m\u001b[38;5;241;43m.\u001b[39;49m\u001b[43moptimize\u001b[49m\u001b[43m(\u001b[49m\u001b[43m)\u001b[49m\n\u001b[0;32m    154\u001b[0m     \u001b[38;5;66;03m# print the best individual and the best fitness\u001b[39;00m\n\u001b[0;32m    155\u001b[0m     \u001b[38;5;28mprint\u001b[39m(\u001b[38;5;124m\"\u001b[39m\u001b[38;5;124m=====================================\u001b[39m\u001b[38;5;124m\"\u001b[39m)\n",
      "Cell \u001b[1;32mIn[29], line 107\u001b[0m, in \u001b[0;36mGCNTuner.optimize\u001b[1;34m(self)\u001b[0m\n\u001b[0;32m    104\u001b[0m \u001b[38;5;28mprint\u001b[39m(\u001b[38;5;124mf\u001b[39m\u001b[38;5;124m\"\u001b[39m\u001b[38;5;124mGeneration \u001b[39m\u001b[38;5;132;01m{\u001b[39;00mgeneration\u001b[38;5;250m \u001b[39m\u001b[38;5;241m+\u001b[39m\u001b[38;5;250m \u001b[39m\u001b[38;5;241m1\u001b[39m\u001b[38;5;132;01m}\u001b[39;00m\u001b[38;5;124m out of \u001b[39m\u001b[38;5;132;01m{\u001b[39;00m\u001b[38;5;28mself\u001b[39m\u001b[38;5;241m.\u001b[39mgenerations\u001b[38;5;132;01m}\u001b[39;00m\u001b[38;5;124m\"\u001b[39m)\n\u001b[0;32m    106\u001b[0m \u001b[38;5;66;03m# Compute the max loss and the min accuracy for each individual in the population\u001b[39;00m\n\u001b[1;32m--> 107\u001b[0m fitnesses \u001b[38;5;241m=\u001b[39m [\u001b[38;5;28mself\u001b[39m\u001b[38;5;241m.\u001b[39mcompute_fitness(individual) \u001b[38;5;28;01mfor\u001b[39;00m individual \u001b[38;5;129;01min\u001b[39;00m population]\n\u001b[0;32m    109\u001b[0m \u001b[38;5;66;03m# Sort the population based on fitness\u001b[39;00m\n\u001b[0;32m    110\u001b[0m \u001b[38;5;66;03m# we're using the min loss as the fitness\u001b[39;00m\n\u001b[0;32m    111\u001b[0m sorted_population \u001b[38;5;241m=\u001b[39m \u001b[38;5;28msorted\u001b[39m(\u001b[38;5;28mzip\u001b[39m(population, fitnesses), key\u001b[38;5;241m=\u001b[39m\u001b[38;5;28;01mlambda\u001b[39;00m x: x[\u001b[38;5;241m1\u001b[39m][\u001b[38;5;241m0\u001b[39m])\n",
      "Cell \u001b[1;32mIn[29], line 107\u001b[0m, in \u001b[0;36m<listcomp>\u001b[1;34m(.0)\u001b[0m\n\u001b[0;32m    104\u001b[0m \u001b[38;5;28mprint\u001b[39m(\u001b[38;5;124mf\u001b[39m\u001b[38;5;124m\"\u001b[39m\u001b[38;5;124mGeneration \u001b[39m\u001b[38;5;132;01m{\u001b[39;00mgeneration\u001b[38;5;250m \u001b[39m\u001b[38;5;241m+\u001b[39m\u001b[38;5;250m \u001b[39m\u001b[38;5;241m1\u001b[39m\u001b[38;5;132;01m}\u001b[39;00m\u001b[38;5;124m out of \u001b[39m\u001b[38;5;132;01m{\u001b[39;00m\u001b[38;5;28mself\u001b[39m\u001b[38;5;241m.\u001b[39mgenerations\u001b[38;5;132;01m}\u001b[39;00m\u001b[38;5;124m\"\u001b[39m)\n\u001b[0;32m    106\u001b[0m \u001b[38;5;66;03m# Compute the max loss and the min accuracy for each individual in the population\u001b[39;00m\n\u001b[1;32m--> 107\u001b[0m fitnesses \u001b[38;5;241m=\u001b[39m [\u001b[38;5;28;43mself\u001b[39;49m\u001b[38;5;241;43m.\u001b[39;49m\u001b[43mcompute_fitness\u001b[49m\u001b[43m(\u001b[49m\u001b[43mindividual\u001b[49m\u001b[43m)\u001b[49m \u001b[38;5;28;01mfor\u001b[39;00m individual \u001b[38;5;129;01min\u001b[39;00m population]\n\u001b[0;32m    109\u001b[0m \u001b[38;5;66;03m# Sort the population based on fitness\u001b[39;00m\n\u001b[0;32m    110\u001b[0m \u001b[38;5;66;03m# we're using the min loss as the fitness\u001b[39;00m\n\u001b[0;32m    111\u001b[0m sorted_population \u001b[38;5;241m=\u001b[39m \u001b[38;5;28msorted\u001b[39m(\u001b[38;5;28mzip\u001b[39m(population, fitnesses), key\u001b[38;5;241m=\u001b[39m\u001b[38;5;28;01mlambda\u001b[39;00m x: x[\u001b[38;5;241m1\u001b[39m][\u001b[38;5;241m0\u001b[39m])\n",
      "Cell \u001b[1;32mIn[29], line 65\u001b[0m, in \u001b[0;36mGCNTuner.compute_fitness\u001b[1;34m(self, individual)\u001b[0m\n\u001b[0;32m     55\u001b[0m model \u001b[38;5;241m=\u001b[39m GCN(\n\u001b[0;32m     56\u001b[0m     hidden_channels\u001b[38;5;241m=\u001b[39mindividual[\u001b[38;5;124m\"\u001b[39m\u001b[38;5;124mhidden_channels\u001b[39m\u001b[38;5;124m\"\u001b[39m],\n\u001b[0;32m     57\u001b[0m     lr\u001b[38;5;241m=\u001b[39mindividual[\u001b[38;5;124m\"\u001b[39m\u001b[38;5;124mlr\u001b[39m\u001b[38;5;124m\"\u001b[39m],\n\u001b[1;32m   (...)\u001b[0m\n\u001b[0;32m     61\u001b[0m     optimizer\u001b[38;5;241m=\u001b[39mindividual[\u001b[38;5;124m\"\u001b[39m\u001b[38;5;124moptimizer\u001b[39m\u001b[38;5;124m\"\u001b[39m]\n\u001b[0;32m     62\u001b[0m )\n\u001b[0;32m     64\u001b[0m \u001b[38;5;66;03m# Train the model and evaluate it\u001b[39;00m\n\u001b[1;32m---> 65\u001b[0m \u001b[43mmodel\u001b[49m\u001b[38;5;241;43m.\u001b[39;49m\u001b[43mfit\u001b[49m\u001b[43m(\u001b[49m\u001b[43mdata\u001b[49m\u001b[43m,\u001b[49m\u001b[43m \u001b[49m\u001b[43mtrain_mask\u001b[49m\u001b[43m,\u001b[49m\u001b[43m \u001b[49m\u001b[38;5;28;43mself\u001b[39;49m\u001b[38;5;241;43m.\u001b[39;49m\u001b[43mepochs\u001b[49m\u001b[43m)\u001b[49m\n\u001b[0;32m     67\u001b[0m \u001b[38;5;66;03m# get the min loss and max accuracy\u001b[39;00m\n\u001b[0;32m     68\u001b[0m \u001b[38;5;28;01mreturn\u001b[39;00m model\u001b[38;5;241m.\u001b[39mmin_loss, model\u001b[38;5;241m.\u001b[39mmax_acc\n",
      "Cell \u001b[1;32mIn[26], line 77\u001b[0m, in \u001b[0;36mGCN.fit\u001b[1;34m(self, data, mask, epochs, stop_acc)\u001b[0m\n\u001b[0;32m     74\u001b[0m train_acc \u001b[38;5;241m=\u001b[39m \u001b[38;5;28mint\u001b[39m(correct\u001b[38;5;241m.\u001b[39msum()) \u001b[38;5;241m/\u001b[39m \u001b[38;5;28mint\u001b[39m(\u001b[38;5;28mlen\u001b[39m(correct))\n\u001b[0;32m     76\u001b[0m \u001b[38;5;66;03m# backpropagate the loss\u001b[39;00m\n\u001b[1;32m---> 77\u001b[0m \u001b[43mloss\u001b[49m\u001b[38;5;241;43m.\u001b[39;49m\u001b[43mbackward\u001b[49m\u001b[43m(\u001b[49m\u001b[43m)\u001b[49m\n\u001b[0;32m     78\u001b[0m \u001b[38;5;28mself\u001b[39m\u001b[38;5;241m.\u001b[39moptimizer\u001b[38;5;241m.\u001b[39mstep()\n\u001b[0;32m     80\u001b[0m \u001b[38;5;66;03m# update the progress bar\u001b[39;00m\n",
      "File \u001b[1;32mc:\\Users\\elaty\\AppData\\Local\\Programs\\Python\\Venvs\\Machine Learning\\lib\\site-packages\\torch\\_tensor.py:487\u001b[0m, in \u001b[0;36mTensor.backward\u001b[1;34m(self, gradient, retain_graph, create_graph, inputs)\u001b[0m\n\u001b[0;32m    477\u001b[0m \u001b[38;5;28;01mif\u001b[39;00m has_torch_function_unary(\u001b[38;5;28mself\u001b[39m):\n\u001b[0;32m    478\u001b[0m     \u001b[38;5;28;01mreturn\u001b[39;00m handle_torch_function(\n\u001b[0;32m    479\u001b[0m         Tensor\u001b[38;5;241m.\u001b[39mbackward,\n\u001b[0;32m    480\u001b[0m         (\u001b[38;5;28mself\u001b[39m,),\n\u001b[1;32m   (...)\u001b[0m\n\u001b[0;32m    485\u001b[0m         inputs\u001b[38;5;241m=\u001b[39minputs,\n\u001b[0;32m    486\u001b[0m     )\n\u001b[1;32m--> 487\u001b[0m \u001b[43mtorch\u001b[49m\u001b[38;5;241;43m.\u001b[39;49m\u001b[43mautograd\u001b[49m\u001b[38;5;241;43m.\u001b[39;49m\u001b[43mbackward\u001b[49m\u001b[43m(\u001b[49m\n\u001b[0;32m    488\u001b[0m \u001b[43m    \u001b[49m\u001b[38;5;28;43mself\u001b[39;49m\u001b[43m,\u001b[49m\u001b[43m \u001b[49m\u001b[43mgradient\u001b[49m\u001b[43m,\u001b[49m\u001b[43m \u001b[49m\u001b[43mretain_graph\u001b[49m\u001b[43m,\u001b[49m\u001b[43m \u001b[49m\u001b[43mcreate_graph\u001b[49m\u001b[43m,\u001b[49m\u001b[43m \u001b[49m\u001b[43minputs\u001b[49m\u001b[38;5;241;43m=\u001b[39;49m\u001b[43minputs\u001b[49m\n\u001b[0;32m    489\u001b[0m \u001b[43m\u001b[49m\u001b[43m)\u001b[49m\n",
      "File \u001b[1;32mc:\\Users\\elaty\\AppData\\Local\\Programs\\Python\\Venvs\\Machine Learning\\lib\\site-packages\\torch\\autograd\\__init__.py:200\u001b[0m, in \u001b[0;36mbackward\u001b[1;34m(tensors, grad_tensors, retain_graph, create_graph, grad_variables, inputs)\u001b[0m\n\u001b[0;32m    195\u001b[0m     retain_graph \u001b[38;5;241m=\u001b[39m create_graph\n\u001b[0;32m    197\u001b[0m \u001b[38;5;66;03m# The reason we repeat same the comment below is that\u001b[39;00m\n\u001b[0;32m    198\u001b[0m \u001b[38;5;66;03m# some Python versions print out the first line of a multi-line function\u001b[39;00m\n\u001b[0;32m    199\u001b[0m \u001b[38;5;66;03m# calls in the traceback and some print out the last line\u001b[39;00m\n\u001b[1;32m--> 200\u001b[0m \u001b[43mVariable\u001b[49m\u001b[38;5;241;43m.\u001b[39;49m\u001b[43m_execution_engine\u001b[49m\u001b[38;5;241;43m.\u001b[39;49m\u001b[43mrun_backward\u001b[49m\u001b[43m(\u001b[49m\u001b[43m  \u001b[49m\u001b[38;5;66;43;03m# Calls into the C++ engine to run the backward pass\u001b[39;49;00m\n\u001b[0;32m    201\u001b[0m \u001b[43m    \u001b[49m\u001b[43mtensors\u001b[49m\u001b[43m,\u001b[49m\u001b[43m \u001b[49m\u001b[43mgrad_tensors_\u001b[49m\u001b[43m,\u001b[49m\u001b[43m \u001b[49m\u001b[43mretain_graph\u001b[49m\u001b[43m,\u001b[49m\u001b[43m \u001b[49m\u001b[43mcreate_graph\u001b[49m\u001b[43m,\u001b[49m\u001b[43m \u001b[49m\u001b[43minputs\u001b[49m\u001b[43m,\u001b[49m\n\u001b[0;32m    202\u001b[0m \u001b[43m    \u001b[49m\u001b[43mallow_unreachable\u001b[49m\u001b[38;5;241;43m=\u001b[39;49m\u001b[38;5;28;43;01mTrue\u001b[39;49;00m\u001b[43m,\u001b[49m\u001b[43m \u001b[49m\u001b[43maccumulate_grad\u001b[49m\u001b[38;5;241;43m=\u001b[39;49m\u001b[38;5;28;43;01mTrue\u001b[39;49;00m\u001b[43m)\u001b[49m\n",
      "\u001b[1;31mKeyboardInterrupt\u001b[0m: "
     ]
    },
    {
     "name": "stderr",
     "output_type": "stream",
     "text": [
<<<<<<< HEAD
      "Min loss: 0.0003790443588513881, Max acc: 0.8325872873769025: 100%|██████████| 2000/2000 [01:12<00:00, 27.61it/s]\n",
      "Min loss: 0.0006166686653159559, Max acc: 0.5022381378692927: 100%|██████████| 2000/2000 [00:40<00:00, 49.65it/s]\n",
      "Min loss: 0.0006053266115486622, Max acc: 0.5461056401074306: 100%|██████████| 2000/2000 [00:16<00:00, 118.79it/s]\n",
      "Min loss: 0.0004127563734073192, Max acc: 0.9042076991942704: 100%|██████████| 2000/2000 [00:24<00:00, 80.40it/s]\n",
      "Min loss: 0.0005923754652030766, Max acc: 0.8173679498657117: 100%|██████████| 2000/2000 [00:40<00:00, 49.33it/s]\n"
     ]
    },
    {
     "name": "stdout",
     "output_type": "stream",
     "text": [
      "Mean accuracy:  0.7205013428827216\n",
      "Generation 2 out of 10\n"
     ]
    },
    {
     "name": "stderr",
     "output_type": "stream",
     "text": [
      "Min loss: 0.0004127563734073192, Max acc: 0.9042076991942704: 100%|██████████| 2000/2000 [00:24<00:00, 80.53it/s]\n",
      "Min loss: 0.000384173181373626, Max acc: 0.8281110116383169: 100%|██████████| 2000/2000 [01:12<00:00, 27.59it/s]\n",
      "Min loss: 0.0005931387422606349, Max acc: 0.8164726947179947: 100%|██████████| 2000/2000 [00:40<00:00, 49.34it/s]\n",
      "Min loss: 0.0005904290592297912, Max acc: 0.8164726947179947: 100%|██████████| 2000/2000 [00:40<00:00, 49.02it/s]\n",
      "Min loss: 0.0006127879023551941, Max acc: 0.5228290062667861: 100%|██████████| 2000/2000 [00:40<00:00, 49.01it/s]\n"
     ]
    },
    {
     "name": "stdout",
     "output_type": "stream",
     "text": [
      "Mean accuracy:  0.7776186213070726\n",
      "Generation 3 out of 10\n"
     ]
    },
    {
     "name": "stderr",
     "output_type": "stream",
     "text": [
      "Min loss: 0.0004127563734073192, Max acc: 0.9042076991942704: 100%|██████████| 2000/2000 [00:24<00:00, 80.25it/s]\n",
      "Min loss: 0.0003817864344455302, Max acc: 0.8290062667860341: 100%|██████████| 2000/2000 [01:12<00:00, 27.41it/s]\n",
      "Min loss: 0.0006307598087005317, Max acc: 0.5120859444941809: 100%|██████████| 2000/2000 [00:40<00:00, 48.90it/s]\n",
      "Min loss: 0.0005348440026864409, Max acc: 0.8361683079677709: 100%|██████████| 2000/2000 [00:41<00:00, 48.61it/s]\n",
      "Min loss: 0.0004502564843278378, Max acc: 0.9015219337511191: 100%|██████████| 2000/2000 [00:41<00:00, 48.77it/s]\n"
     ]
    },
    {
     "name": "stdout",
     "output_type": "stream",
     "text": [
      "Mean accuracy:  0.796598030438675\n",
      "Generation 4 out of 10\n"
     ]
    },
    {
     "name": "stderr",
     "output_type": "stream",
     "text": [
      "Min loss: 0.0004127563734073192, Max acc: 0.9042076991942704: 100%|██████████| 2000/2000 [00:25<00:00, 79.36it/s]\n",
      "Min loss: 0.0004502564843278378, Max acc: 0.9015219337511191: 100%|██████████| 2000/2000 [00:42<00:00, 46.98it/s]\n",
      "Min loss: 0.0005058351089246571, Max acc: 0.846911369740376: 100%|██████████| 2000/2000 [01:14<00:00, 26.77it/s]\n",
      "Min loss: 0.000622572551947087, Max acc: 0.5120859444941809: 100%|██████████| 2000/2000 [01:14<00:00, 26.91it/s]\n",
      "Min loss: 0.0004450602282304317, Max acc: 0.909579230080573: 100%|██████████| 2000/2000 [00:17<00:00, 116.75it/s]\n"
     ]
    },
    {
     "name": "stdout",
     "output_type": "stream",
     "text": [
      "Mean accuracy:  0.8148612354521039\n",
      "Generation 5 out of 10\n"
     ]
    },
    {
     "name": "stderr",
     "output_type": "stream",
     "text": [
      "Min loss: 0.0004450602864380926, Max acc: 0.909579230080573: 100%|██████████| 2000/2000 [00:17<00:00, 116.49it/s]\n",
      "Min loss: 0.0004127563734073192, Max acc: 0.9042076991942704: 100%|██████████| 2000/2000 [00:24<00:00, 80.26it/s]\n",
      "Min loss: 0.00041315730777569115, Max acc: 0.9042076991942704: 100%|██████████| 2000/2000 [00:25<00:00, 79.01it/s]\n",
      "Min loss: 0.00048048648750409484, Max acc: 0.928379588182632: 100%|██████████| 2000/2000 [01:13<00:00, 27.07it/s]\n",
      "Min loss: 0.000398812786443159, Max acc: 0.9122649955237243: 100%|██████████| 2000/2000 [00:25<00:00, 78.56it/s]\n"
     ]
    },
    {
     "name": "stdout",
     "output_type": "stream",
     "text": [
      "Mean accuracy:  0.9117278424350939\n",
      "Generation 6 out of 10\n"
     ]
    },
    {
     "name": "stderr",
     "output_type": "stream",
     "text": [
      "Min loss: 0.00048048648750409484, Max acc: 0.928379588182632: 100%|██████████| 2000/2000 [01:12<00:00, 27.40it/s]\n",
      "Min loss: 0.000398812786443159, Max acc: 0.9122649955237243: 100%|██████████| 2000/2000 [00:25<00:00, 79.08it/s]\n",
      "Min loss: 0.00013187239528633654, Max acc: 0.9937332139659804: 100%|██████████| 2000/2000 [00:17<00:00, 115.82it/s]\n",
      "Min loss: 0.00041315730777569115, Max acc: 0.9042076991942704: 100%|██████████| 2000/2000 [00:25<00:00, 79.55it/s]\n",
      "Min loss: 0.00041315736598335207, Max acc: 0.9042076991942704: 100%|██████████| 2000/2000 [00:25<00:00, 79.39it/s]\n"
     ]
    },
    {
     "name": "stdout",
     "output_type": "stream",
     "text": [
      "Mean accuracy:  0.9285586392121754\n",
      "Generation 7 out of 10\n"
     ]
    },
    {
     "name": "stderr",
     "output_type": "stream",
     "text": [
      "Min loss: 0.00013183506962377578, Max acc: 0.9937332139659804: 100%|██████████| 2000/2000 [00:17<00:00, 114.41it/s]\n",
      "Min loss: 0.00048048648750409484, Max acc: 0.928379588182632: 100%|██████████| 2000/2000 [01:13<00:00, 27.36it/s]\n",
      "Min loss: 0.0004127563734073192, Max acc: 0.9042076991942704: 100%|██████████| 2000/2000 [00:25<00:00, 79.25it/s]\n",
      "Min loss: 0.0004056363832205534, Max acc: 0.9167412712623098: 100%|██████████| 2000/2000 [00:17<00:00, 114.79it/s]\n",
      "Min loss: 0.0005584504688158631, Max acc: 0.8182632050134289: 100%|██████████| 2000/2000 [00:25<00:00, 78.61it/s]\n"
     ]
    },
    {
     "name": "stdout",
     "output_type": "stream",
     "text": [
      "Mean accuracy:  0.9122649955237243\n",
      "Generation 8 out of 10\n"
     ]
    },
    {
     "name": "stderr",
     "output_type": "stream",
     "text": [
      "Min loss: 0.00013196378131397069, Max acc: 0.9937332139659804: 100%|██████████| 2000/2000 [00:18<00:00, 109.20it/s]\n",
      "Min loss: 0.00048048648750409484, Max acc: 0.928379588182632: 100%|██████████| 2000/2000 [01:13<00:00, 27.05it/s]\n",
      "Min loss: 0.0005658294539898634, Max acc: 0.8182632050134289: 100%|██████████| 2000/2000 [00:25<00:00, 78.92it/s]\n",
      "Min loss: 0.00021719960204791278, Max acc: 0.9579230080572964: 100%|██████████| 2000/2000 [01:13<00:00, 27.19it/s]\n",
      "Min loss: 0.0004595090285874903, Max acc: 0.9176365264100269: 100%|██████████| 2000/2000 [01:13<00:00, 27.21it/s]\n"
     ]
    },
    {
     "name": "stdout",
     "output_type": "stream",
     "text": [
      "Mean accuracy:  0.9231871083258728\n",
      "Generation 9 out of 10\n"
     ]
    },
    {
     "name": "stderr",
     "output_type": "stream",
     "text": [
      "Min loss: 0.00013198095257394016, Max acc: 0.9937332139659804: 100%|██████████| 2000/2000 [00:17<00:00, 114.21it/s]\n",
      "Min loss: 0.00021689861023332924, Max acc: 0.9579230080572964: 100%|██████████| 2000/2000 [01:13<00:00, 27.25it/s]\n",
      "Loss: 0.0002601611486170441, Acc: 0.9203222918531782:  40%|███▉      | 799/2000 [00:29<00:44, 26.77it/s] "
     ]
    },
    {
     "ename": "KeyboardInterrupt",
     "evalue": "",
     "output_type": "error",
     "traceback": [
      "\u001b[1;31m---------------------------------------------------------------------------\u001b[0m",
      "\u001b[1;31mKeyboardInterrupt\u001b[0m                         Traceback (most recent call last)",
      "Cell \u001b[1;32mIn[87], line 3\u001b[0m\n\u001b[0;32m      1\u001b[0m \u001b[38;5;66;03m# create a tuner and run it\u001b[39;00m\n\u001b[0;32m      2\u001b[0m tuner \u001b[38;5;241m=\u001b[39m GCNTuner(population_size\u001b[38;5;241m=\u001b[39m\u001b[38;5;241m5\u001b[39m, generations\u001b[38;5;241m=\u001b[39m\u001b[38;5;241m10\u001b[39m, mutation_rate\u001b[38;5;241m=\u001b[39m\u001b[38;5;241m0.2\u001b[39m, epochs\u001b[38;5;241m=\u001b[39m\u001b[38;5;241m2000\u001b[39m)\n\u001b[1;32m----> 3\u001b[0m model, best_individual, best_acc, test_acc, hist \u001b[38;5;241m=\u001b[39m \u001b[43mtuner\u001b[49m\u001b[38;5;241;43m.\u001b[39;49m\u001b[43mrun\u001b[49m\u001b[43m(\u001b[49m\u001b[43m)\u001b[49m\n",
      "Cell \u001b[1;32mIn[85], line 148\u001b[0m, in \u001b[0;36mGCNTuner.run\u001b[1;34m(self)\u001b[0m\n\u001b[0;32m    144\u001b[0m \u001b[38;5;28;01mdef\u001b[39;00m \u001b[38;5;21mrun\u001b[39m(\u001b[38;5;28mself\u001b[39m):\n\u001b[0;32m    145\u001b[0m \n\u001b[0;32m    146\u001b[0m     \u001b[38;5;66;03m# run the genetic algorithm\u001b[39;00m\n\u001b[0;32m    147\u001b[0m     \u001b[38;5;28mprint\u001b[39m(\u001b[38;5;124m\"\u001b[39m\u001b[38;5;124mRunning the genetic algorithm...\u001b[39m\u001b[38;5;124m\"\u001b[39m)\n\u001b[1;32m--> 148\u001b[0m     best_individual, best_acc \u001b[38;5;241m=\u001b[39m \u001b[38;5;28;43mself\u001b[39;49m\u001b[38;5;241;43m.\u001b[39;49m\u001b[43moptimize\u001b[49m\u001b[43m(\u001b[49m\u001b[43m)\u001b[49m\n\u001b[0;32m    150\u001b[0m     \u001b[38;5;66;03m# print the best individual and the best fitness\u001b[39;00m\n\u001b[0;32m    151\u001b[0m     \u001b[38;5;28mprint\u001b[39m(\u001b[38;5;124m\"\u001b[39m\u001b[38;5;124m=====================================\u001b[39m\u001b[38;5;124m\"\u001b[39m)\n",
      "Cell \u001b[1;32mIn[85], line 106\u001b[0m, in \u001b[0;36mGCNTuner.optimize\u001b[1;34m(self)\u001b[0m\n\u001b[0;32m    103\u001b[0m \u001b[38;5;28mprint\u001b[39m(\u001b[38;5;124mf\u001b[39m\u001b[38;5;124m\"\u001b[39m\u001b[38;5;124mGeneration \u001b[39m\u001b[38;5;132;01m{\u001b[39;00mgeneration\u001b[38;5;250m \u001b[39m\u001b[38;5;241m+\u001b[39m\u001b[38;5;250m \u001b[39m\u001b[38;5;241m1\u001b[39m\u001b[38;5;132;01m}\u001b[39;00m\u001b[38;5;124m out of \u001b[39m\u001b[38;5;132;01m{\u001b[39;00m\u001b[38;5;28mself\u001b[39m\u001b[38;5;241m.\u001b[39mgenerations\u001b[38;5;132;01m}\u001b[39;00m\u001b[38;5;124m\"\u001b[39m)\n\u001b[0;32m    105\u001b[0m \u001b[38;5;66;03m# Compute the max loss and the min accuracy for each individual in the population\u001b[39;00m\n\u001b[1;32m--> 106\u001b[0m fitnesses \u001b[38;5;241m=\u001b[39m [\u001b[38;5;28mself\u001b[39m\u001b[38;5;241m.\u001b[39mcompute_fitness(individual) \u001b[38;5;28;01mfor\u001b[39;00m individual \u001b[38;5;129;01min\u001b[39;00m population]\n\u001b[0;32m    108\u001b[0m \u001b[38;5;66;03m# Sort the population based on fitness\u001b[39;00m\n\u001b[0;32m    109\u001b[0m \u001b[38;5;66;03m# we're using the min loss as the fitness\u001b[39;00m\n\u001b[0;32m    110\u001b[0m sorted_population \u001b[38;5;241m=\u001b[39m [x \u001b[38;5;28;01mfor\u001b[39;00m _, x \u001b[38;5;129;01min\u001b[39;00m \u001b[38;5;28msorted\u001b[39m(\u001b[38;5;28mzip\u001b[39m(fitnesses, population), key\u001b[38;5;241m=\u001b[39m\u001b[38;5;28;01mlambda\u001b[39;00m pair: pair[\u001b[38;5;241m0\u001b[39m], reverse\u001b[38;5;241m=\u001b[39m\u001b[38;5;28;01mTrue\u001b[39;00m)]\n",
      "Cell \u001b[1;32mIn[85], line 106\u001b[0m, in \u001b[0;36m<listcomp>\u001b[1;34m(.0)\u001b[0m\n\u001b[0;32m    103\u001b[0m \u001b[38;5;28mprint\u001b[39m(\u001b[38;5;124mf\u001b[39m\u001b[38;5;124m\"\u001b[39m\u001b[38;5;124mGeneration \u001b[39m\u001b[38;5;132;01m{\u001b[39;00mgeneration\u001b[38;5;250m \u001b[39m\u001b[38;5;241m+\u001b[39m\u001b[38;5;250m \u001b[39m\u001b[38;5;241m1\u001b[39m\u001b[38;5;132;01m}\u001b[39;00m\u001b[38;5;124m out of \u001b[39m\u001b[38;5;132;01m{\u001b[39;00m\u001b[38;5;28mself\u001b[39m\u001b[38;5;241m.\u001b[39mgenerations\u001b[38;5;132;01m}\u001b[39;00m\u001b[38;5;124m\"\u001b[39m)\n\u001b[0;32m    105\u001b[0m \u001b[38;5;66;03m# Compute the max loss and the min accuracy for each individual in the population\u001b[39;00m\n\u001b[1;32m--> 106\u001b[0m fitnesses \u001b[38;5;241m=\u001b[39m [\u001b[38;5;28;43mself\u001b[39;49m\u001b[38;5;241;43m.\u001b[39;49m\u001b[43mcompute_fitness\u001b[49m\u001b[43m(\u001b[49m\u001b[43mindividual\u001b[49m\u001b[43m)\u001b[49m \u001b[38;5;28;01mfor\u001b[39;00m individual \u001b[38;5;129;01min\u001b[39;00m population]\n\u001b[0;32m    108\u001b[0m \u001b[38;5;66;03m# Sort the population based on fitness\u001b[39;00m\n\u001b[0;32m    109\u001b[0m \u001b[38;5;66;03m# we're using the min loss as the fitness\u001b[39;00m\n\u001b[0;32m    110\u001b[0m sorted_population \u001b[38;5;241m=\u001b[39m [x \u001b[38;5;28;01mfor\u001b[39;00m _, x \u001b[38;5;129;01min\u001b[39;00m \u001b[38;5;28msorted\u001b[39m(\u001b[38;5;28mzip\u001b[39m(fitnesses, population), key\u001b[38;5;241m=\u001b[39m\u001b[38;5;28;01mlambda\u001b[39;00m pair: pair[\u001b[38;5;241m0\u001b[39m], reverse\u001b[38;5;241m=\u001b[39m\u001b[38;5;28;01mTrue\u001b[39;00m)]\n",
      "Cell \u001b[1;32mIn[85], line 65\u001b[0m, in \u001b[0;36mGCNTuner.compute_fitness\u001b[1;34m(self, individual)\u001b[0m\n\u001b[0;32m     55\u001b[0m model \u001b[38;5;241m=\u001b[39m GCN(\n\u001b[0;32m     56\u001b[0m     hidden_channels\u001b[38;5;241m=\u001b[39mindividual[\u001b[38;5;124m\"\u001b[39m\u001b[38;5;124mhidden_channels\u001b[39m\u001b[38;5;124m\"\u001b[39m],\n\u001b[0;32m     57\u001b[0m     lr\u001b[38;5;241m=\u001b[39mindividual[\u001b[38;5;124m\"\u001b[39m\u001b[38;5;124mlr\u001b[39m\u001b[38;5;124m\"\u001b[39m],\n\u001b[1;32m   (...)\u001b[0m\n\u001b[0;32m     61\u001b[0m     optimizer\u001b[38;5;241m=\u001b[39mindividual[\u001b[38;5;124m\"\u001b[39m\u001b[38;5;124moptimizer\u001b[39m\u001b[38;5;124m\"\u001b[39m]\n\u001b[0;32m     62\u001b[0m )\n\u001b[0;32m     64\u001b[0m \u001b[38;5;66;03m# Train the model and evaluate it\u001b[39;00m\n\u001b[1;32m---> 65\u001b[0m \u001b[43mmodel\u001b[49m\u001b[38;5;241;43m.\u001b[39;49m\u001b[43mfit\u001b[49m\u001b[43m(\u001b[49m\u001b[43mdata\u001b[49m\u001b[43m,\u001b[49m\u001b[43m \u001b[49m\u001b[43mtrain_mask\u001b[49m\u001b[43m,\u001b[49m\u001b[43m \u001b[49m\u001b[38;5;28;43mself\u001b[39;49m\u001b[38;5;241;43m.\u001b[39;49m\u001b[43mepochs\u001b[49m\u001b[43m)\u001b[49m\n\u001b[0;32m     67\u001b[0m \u001b[38;5;66;03m# get the max accuracy\u001b[39;00m\n\u001b[0;32m     68\u001b[0m \u001b[38;5;28;01mreturn\u001b[39;00m model\u001b[38;5;241m.\u001b[39mmax_acc\n",
      "Cell \u001b[1;32mIn[82], line 81\u001b[0m, in \u001b[0;36mGCN.fit\u001b[1;34m(self, data, mask, epochs, stop_acc)\u001b[0m\n\u001b[0;32m     78\u001b[0m \u001b[38;5;28mself\u001b[39m\u001b[38;5;241m.\u001b[39moptimizer\u001b[38;5;241m.\u001b[39mstep()\n\u001b[0;32m     80\u001b[0m \u001b[38;5;66;03m# update the progress bar\u001b[39;00m\n\u001b[1;32m---> 81\u001b[0m \u001b[43mprogress\u001b[49m\u001b[38;5;241;43m.\u001b[39;49m\u001b[43mset_description\u001b[49m\u001b[43m(\u001b[49m\u001b[38;5;124;43m\"\u001b[39;49m\u001b[38;5;124;43mLoss: \u001b[39;49m\u001b[38;5;132;43;01m{}\u001b[39;49;00m\u001b[38;5;124;43m, Acc: \u001b[39;49m\u001b[38;5;132;43;01m{}\u001b[39;49;00m\u001b[38;5;124;43m\"\u001b[39;49m\u001b[38;5;241;43m.\u001b[39;49m\u001b[43mformat\u001b[49m\u001b[43m(\u001b[49m\u001b[43mloss\u001b[49m\u001b[43m,\u001b[49m\u001b[43m \u001b[49m\u001b[43mtrain_acc\u001b[49m\u001b[43m)\u001b[49m\u001b[43m)\u001b[49m\n\u001b[0;32m     82\u001b[0m progress\u001b[38;5;241m.\u001b[39mupdate(\u001b[38;5;241m1\u001b[39m)\n\u001b[0;32m     84\u001b[0m \u001b[38;5;66;03m# append the loss and accuracy to the history\u001b[39;00m\n",
      "File \u001b[1;32mc:\\Users\\elaty\\AppData\\Local\\Programs\\Python\\Venvs\\Machine Learning\\lib\\site-packages\\tqdm\\std.py:1395\u001b[0m, in \u001b[0;36mtqdm.set_description\u001b[1;34m(self, desc, refresh)\u001b[0m\n\u001b[0;32m   1393\u001b[0m \u001b[38;5;28mself\u001b[39m\u001b[38;5;241m.\u001b[39mdesc \u001b[38;5;241m=\u001b[39m desc \u001b[38;5;241m+\u001b[39m \u001b[38;5;124m'\u001b[39m\u001b[38;5;124m: \u001b[39m\u001b[38;5;124m'\u001b[39m \u001b[38;5;28;01mif\u001b[39;00m desc \u001b[38;5;28;01melse\u001b[39;00m \u001b[38;5;124m'\u001b[39m\u001b[38;5;124m'\u001b[39m\n\u001b[0;32m   1394\u001b[0m \u001b[38;5;28;01mif\u001b[39;00m refresh:\n\u001b[1;32m-> 1395\u001b[0m     \u001b[38;5;28;43mself\u001b[39;49m\u001b[38;5;241;43m.\u001b[39;49m\u001b[43mrefresh\u001b[49m\u001b[43m(\u001b[49m\u001b[43m)\u001b[49m\n",
      "File \u001b[1;32mc:\\Users\\elaty\\AppData\\Local\\Programs\\Python\\Venvs\\Machine Learning\\lib\\site-packages\\tqdm\\std.py:1348\u001b[0m, in \u001b[0;36mtqdm.refresh\u001b[1;34m(self, nolock, lock_args)\u001b[0m\n\u001b[0;32m   1346\u001b[0m     \u001b[38;5;28;01melse\u001b[39;00m:\n\u001b[0;32m   1347\u001b[0m         \u001b[38;5;28mself\u001b[39m\u001b[38;5;241m.\u001b[39m_lock\u001b[38;5;241m.\u001b[39macquire()\n\u001b[1;32m-> 1348\u001b[0m \u001b[38;5;28;43mself\u001b[39;49m\u001b[38;5;241;43m.\u001b[39;49m\u001b[43mdisplay\u001b[49m\u001b[43m(\u001b[49m\u001b[43m)\u001b[49m\n\u001b[0;32m   1349\u001b[0m \u001b[38;5;28;01mif\u001b[39;00m \u001b[38;5;129;01mnot\u001b[39;00m nolock:\n\u001b[0;32m   1350\u001b[0m     \u001b[38;5;28mself\u001b[39m\u001b[38;5;241m.\u001b[39m_lock\u001b[38;5;241m.\u001b[39mrelease()\n",
      "File \u001b[1;32mc:\\Users\\elaty\\AppData\\Local\\Programs\\Python\\Venvs\\Machine Learning\\lib\\site-packages\\tqdm\\std.py:1496\u001b[0m, in \u001b[0;36mtqdm.display\u001b[1;34m(self, msg, pos)\u001b[0m\n\u001b[0;32m   1494\u001b[0m \u001b[38;5;28;01mif\u001b[39;00m pos:\n\u001b[0;32m   1495\u001b[0m     \u001b[38;5;28mself\u001b[39m\u001b[38;5;241m.\u001b[39mmoveto(pos)\n\u001b[1;32m-> 1496\u001b[0m \u001b[38;5;28;43mself\u001b[39;49m\u001b[38;5;241;43m.\u001b[39;49m\u001b[43msp\u001b[49m\u001b[43m(\u001b[49m\u001b[38;5;28;43mself\u001b[39;49m\u001b[38;5;241;43m.\u001b[39;49m\u001b[38;5;21;43m__str__\u001b[39;49m\u001b[43m(\u001b[49m\u001b[43m)\u001b[49m\u001b[43m \u001b[49m\u001b[38;5;28;43;01mif\u001b[39;49;00m\u001b[43m \u001b[49m\u001b[43mmsg\u001b[49m\u001b[43m \u001b[49m\u001b[38;5;129;43;01mis\u001b[39;49;00m\u001b[43m \u001b[49m\u001b[38;5;28;43;01mNone\u001b[39;49;00m\u001b[43m \u001b[49m\u001b[38;5;28;43;01melse\u001b[39;49;00m\u001b[43m \u001b[49m\u001b[43mmsg\u001b[49m\u001b[43m)\u001b[49m\n\u001b[0;32m   1497\u001b[0m \u001b[38;5;28;01mif\u001b[39;00m pos:\n\u001b[0;32m   1498\u001b[0m     \u001b[38;5;28mself\u001b[39m\u001b[38;5;241m.\u001b[39mmoveto(\u001b[38;5;241m-\u001b[39mpos)\n",
      "File \u001b[1;32mc:\\Users\\elaty\\AppData\\Local\\Programs\\Python\\Venvs\\Machine Learning\\lib\\site-packages\\tqdm\\std.py:462\u001b[0m, in \u001b[0;36mtqdm.status_printer.<locals>.print_status\u001b[1;34m(s)\u001b[0m\n\u001b[0;32m    460\u001b[0m \u001b[38;5;28;01mdef\u001b[39;00m \u001b[38;5;21mprint_status\u001b[39m(s):\n\u001b[0;32m    461\u001b[0m     len_s \u001b[38;5;241m=\u001b[39m disp_len(s)\n\u001b[1;32m--> 462\u001b[0m     \u001b[43mfp_write\u001b[49m\u001b[43m(\u001b[49m\u001b[38;5;124;43m'\u001b[39;49m\u001b[38;5;130;43;01m\\r\u001b[39;49;00m\u001b[38;5;124;43m'\u001b[39;49m\u001b[43m \u001b[49m\u001b[38;5;241;43m+\u001b[39;49m\u001b[43m \u001b[49m\u001b[43ms\u001b[49m\u001b[43m \u001b[49m\u001b[38;5;241;43m+\u001b[39;49m\u001b[43m \u001b[49m\u001b[43m(\u001b[49m\u001b[38;5;124;43m'\u001b[39;49m\u001b[38;5;124;43m \u001b[39;49m\u001b[38;5;124;43m'\u001b[39;49m\u001b[43m \u001b[49m\u001b[38;5;241;43m*\u001b[39;49m\u001b[43m \u001b[49m\u001b[38;5;28;43mmax\u001b[39;49m\u001b[43m(\u001b[49m\u001b[43mlast_len\u001b[49m\u001b[43m[\u001b[49m\u001b[38;5;241;43m0\u001b[39;49m\u001b[43m]\u001b[49m\u001b[43m \u001b[49m\u001b[38;5;241;43m-\u001b[39;49m\u001b[43m \u001b[49m\u001b[43mlen_s\u001b[49m\u001b[43m,\u001b[49m\u001b[43m \u001b[49m\u001b[38;5;241;43m0\u001b[39;49m\u001b[43m)\u001b[49m\u001b[43m)\u001b[49m\u001b[43m)\u001b[49m\n\u001b[0;32m    463\u001b[0m     last_len[\u001b[38;5;241m0\u001b[39m] \u001b[38;5;241m=\u001b[39m len_s\n",
      "File \u001b[1;32mc:\\Users\\elaty\\AppData\\Local\\Programs\\Python\\Venvs\\Machine Learning\\lib\\site-packages\\tqdm\\std.py:455\u001b[0m, in \u001b[0;36mtqdm.status_printer.<locals>.fp_write\u001b[1;34m(s)\u001b[0m\n\u001b[0;32m    454\u001b[0m \u001b[38;5;28;01mdef\u001b[39;00m \u001b[38;5;21mfp_write\u001b[39m(s):\n\u001b[1;32m--> 455\u001b[0m     \u001b[43mfp\u001b[49m\u001b[38;5;241;43m.\u001b[39;49m\u001b[43mwrite\u001b[49m\u001b[43m(\u001b[49m\u001b[38;5;28;43mstr\u001b[39;49m\u001b[43m(\u001b[49m\u001b[43ms\u001b[49m\u001b[43m)\u001b[49m\u001b[43m)\u001b[49m\n\u001b[0;32m    456\u001b[0m     fp_flush()\n",
      "File \u001b[1;32mc:\\Users\\elaty\\AppData\\Local\\Programs\\Python\\Venvs\\Machine Learning\\lib\\site-packages\\tqdm\\utils.py:195\u001b[0m, in \u001b[0;36mDisableOnWriteError.disable_on_exception.<locals>.inner\u001b[1;34m(*args, **kwargs)\u001b[0m\n\u001b[0;32m    193\u001b[0m \u001b[38;5;28;01mdef\u001b[39;00m \u001b[38;5;21minner\u001b[39m(\u001b[38;5;241m*\u001b[39margs, \u001b[38;5;241m*\u001b[39m\u001b[38;5;241m*\u001b[39mkwargs):\n\u001b[0;32m    194\u001b[0m     \u001b[38;5;28;01mtry\u001b[39;00m:\n\u001b[1;32m--> 195\u001b[0m         \u001b[38;5;28;01mreturn\u001b[39;00m func(\u001b[38;5;241m*\u001b[39margs, \u001b[38;5;241m*\u001b[39m\u001b[38;5;241m*\u001b[39mkwargs)\n\u001b[0;32m    196\u001b[0m     \u001b[38;5;28;01mexcept\u001b[39;00m \u001b[38;5;167;01mOSError\u001b[39;00m \u001b[38;5;28;01mas\u001b[39;00m e:\n\u001b[0;32m    197\u001b[0m         \u001b[38;5;28;01mif\u001b[39;00m e\u001b[38;5;241m.\u001b[39merrno \u001b[38;5;241m!=\u001b[39m \u001b[38;5;241m5\u001b[39m:\n",
      "File \u001b[1;32mc:\\Users\\elaty\\AppData\\Local\\Programs\\Python\\Venvs\\Machine Learning\\lib\\site-packages\\ipykernel\\iostream.py:648\u001b[0m, in \u001b[0;36mOutStream.write\u001b[1;34m(self, string)\u001b[0m\n\u001b[0;32m    646\u001b[0m         \u001b[38;5;28mself\u001b[39m\u001b[38;5;241m.\u001b[39mpub_thread\u001b[38;5;241m.\u001b[39mschedule(\u001b[38;5;28mself\u001b[39m\u001b[38;5;241m.\u001b[39m_flush)\n\u001b[0;32m    647\u001b[0m     \u001b[38;5;28;01melse\u001b[39;00m:\n\u001b[1;32m--> 648\u001b[0m         \u001b[38;5;28;43mself\u001b[39;49m\u001b[38;5;241;43m.\u001b[39;49m\u001b[43m_schedule_flush\u001b[49m\u001b[43m(\u001b[49m\u001b[43m)\u001b[49m\n\u001b[0;32m    650\u001b[0m \u001b[38;5;28;01mreturn\u001b[39;00m \u001b[38;5;28mlen\u001b[39m(string)\n",
      "File \u001b[1;32mc:\\Users\\elaty\\AppData\\Local\\Programs\\Python\\Venvs\\Machine Learning\\lib\\site-packages\\ipykernel\\iostream.py:545\u001b[0m, in \u001b[0;36mOutStream._schedule_flush\u001b[1;34m(self)\u001b[0m\n\u001b[0;32m    542\u001b[0m \u001b[38;5;28;01mdef\u001b[39;00m \u001b[38;5;21m_schedule_in_thread\u001b[39m():\n\u001b[0;32m    543\u001b[0m     \u001b[38;5;28mself\u001b[39m\u001b[38;5;241m.\u001b[39m_io_loop\u001b[38;5;241m.\u001b[39mcall_later(\u001b[38;5;28mself\u001b[39m\u001b[38;5;241m.\u001b[39mflush_interval, \u001b[38;5;28mself\u001b[39m\u001b[38;5;241m.\u001b[39m_flush)\n\u001b[1;32m--> 545\u001b[0m \u001b[38;5;28;43mself\u001b[39;49m\u001b[38;5;241;43m.\u001b[39;49m\u001b[43mpub_thread\u001b[49m\u001b[38;5;241;43m.\u001b[39;49m\u001b[43mschedule\u001b[49m\u001b[43m(\u001b[49m\u001b[43m_schedule_in_thread\u001b[49m\u001b[43m)\u001b[49m\n",
      "File \u001b[1;32mc:\\Users\\elaty\\AppData\\Local\\Programs\\Python\\Venvs\\Machine Learning\\lib\\site-packages\\ipykernel\\iostream.py:251\u001b[0m, in \u001b[0;36mIOPubThread.schedule\u001b[1;34m(self, f)\u001b[0m\n\u001b[0;32m    249\u001b[0m     \u001b[38;5;28mself\u001b[39m\u001b[38;5;241m.\u001b[39m_events\u001b[38;5;241m.\u001b[39mappend(f)\n\u001b[0;32m    250\u001b[0m     \u001b[38;5;66;03m# wake event thread (message content is ignored)\u001b[39;00m\n\u001b[1;32m--> 251\u001b[0m     \u001b[38;5;28;43mself\u001b[39;49m\u001b[38;5;241;43m.\u001b[39;49m\u001b[43m_event_pipe\u001b[49m\u001b[38;5;241;43m.\u001b[39;49m\u001b[43msend\u001b[49m\u001b[43m(\u001b[49m\u001b[38;5;124;43mb\u001b[39;49m\u001b[38;5;124;43m\"\u001b[39;49m\u001b[38;5;124;43m\"\u001b[39;49m\u001b[43m)\u001b[49m\n\u001b[0;32m    252\u001b[0m \u001b[38;5;28;01melse\u001b[39;00m:\n\u001b[0;32m    253\u001b[0m     f()\n",
      "File \u001b[1;32mc:\\Users\\elaty\\AppData\\Local\\Programs\\Python\\Venvs\\Machine Learning\\lib\\site-packages\\zmq\\sugar\\socket.py:620\u001b[0m, in \u001b[0;36mSocket.send\u001b[1;34m(self, data, flags, copy, track, routing_id, group)\u001b[0m\n\u001b[0;32m    613\u001b[0m         data \u001b[38;5;241m=\u001b[39m zmq\u001b[38;5;241m.\u001b[39mFrame(\n\u001b[0;32m    614\u001b[0m             data,\n\u001b[0;32m    615\u001b[0m             track\u001b[38;5;241m=\u001b[39mtrack,\n\u001b[0;32m    616\u001b[0m             copy\u001b[38;5;241m=\u001b[39mcopy \u001b[38;5;129;01mor\u001b[39;00m \u001b[38;5;28;01mNone\u001b[39;00m,\n\u001b[0;32m    617\u001b[0m             copy_threshold\u001b[38;5;241m=\u001b[39m\u001b[38;5;28mself\u001b[39m\u001b[38;5;241m.\u001b[39mcopy_threshold,\n\u001b[0;32m    618\u001b[0m         )\n\u001b[0;32m    619\u001b[0m     data\u001b[38;5;241m.\u001b[39mgroup \u001b[38;5;241m=\u001b[39m group\n\u001b[1;32m--> 620\u001b[0m \u001b[38;5;28;01mreturn\u001b[39;00m \u001b[38;5;28;43msuper\u001b[39;49m\u001b[43m(\u001b[49m\u001b[43m)\u001b[49m\u001b[38;5;241;43m.\u001b[39;49m\u001b[43msend\u001b[49m\u001b[43m(\u001b[49m\u001b[43mdata\u001b[49m\u001b[43m,\u001b[49m\u001b[43m \u001b[49m\u001b[43mflags\u001b[49m\u001b[38;5;241;43m=\u001b[39;49m\u001b[43mflags\u001b[49m\u001b[43m,\u001b[49m\u001b[43m \u001b[49m\u001b[43mcopy\u001b[49m\u001b[38;5;241;43m=\u001b[39;49m\u001b[43mcopy\u001b[49m\u001b[43m,\u001b[49m\u001b[43m \u001b[49m\u001b[43mtrack\u001b[49m\u001b[38;5;241;43m=\u001b[39;49m\u001b[43mtrack\u001b[49m\u001b[43m)\u001b[49m\n",
      "File \u001b[1;32mzmq\\backend\\cython\\socket.pyx:746\u001b[0m, in \u001b[0;36mzmq.backend.cython.socket.Socket.send\u001b[1;34m()\u001b[0m\n",
      "File \u001b[1;32mzmq\\backend\\cython\\socket.pyx:793\u001b[0m, in \u001b[0;36mzmq.backend.cython.socket.Socket.send\u001b[1;34m()\u001b[0m\n",
      "File \u001b[1;32mzmq\\backend\\cython\\socket.pyx:250\u001b[0m, in \u001b[0;36mzmq.backend.cython.socket._send_copy\u001b[1;34m()\u001b[0m\n",
      "File \u001b[1;32mc:\\Users\\elaty\\AppData\\Local\\Programs\\Python\\Venvs\\Machine Learning\\lib\\site-packages\\zmq\\backend\\cython\\checkrc.pxd:13\u001b[0m, in \u001b[0;36mzmq.backend.cython.checkrc._check_rc\u001b[1;34m()\u001b[0m\n",
      "\u001b[1;31mKeyboardInterrupt\u001b[0m: "
=======
      "Loss: 0.00024320167722180486, Acc: 0.9391226499552372:  75%|███████▍  | 1498/2000 [01:10<00:18, 26.56it/s]"
>>>>>>> d294f8f3fe43eca3d64cd7d83803a4faa9bef0bf
     ]
    }
   ],
   "source": [
    "# create a tuner and run it\n",
    "tuner = GCNTuner(population_size=5, generations=10, mutation_rate=0.2, epochs=2000)\n",
    "model, best_individual, best_acc, test_acc, hist = tuner.run()"
   ]
  },
  {
   "cell_type": "code",
   "execution_count": null,
   "metadata": {},
   "outputs": [
    {
     "name": "stdout",
     "output_type": "stream",
     "text": [
      "Best fitness:  1.0\n",
      "Test accuracy:  0.9881458286736748\n",
      "Best individual:  {'hidden_channels': 1024, 'lr': 0.00071, 'weight_decay': 6e-07, 'dropout': 0.0036, 'activation_function': 'relu', 'optimizer': 'adam'}\n"
     ]
    },
    {
     "data": {
      "image/png": "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",
      "text/plain": [
       "<Figure size 1000x600 with 1 Axes>"
      ]
     },
     "metadata": {},
     "output_type": "display_data"
    },
    {
     "data": {
      "image/png": "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",
      "text/plain": [
       "<Figure size 1000x600 with 1 Axes>"
      ]
     },
     "metadata": {},
     "output_type": "display_data"
    }
   ],
   "source": [
    "# print and plot the results\n",
    "print(\"Results for the best model:\")\n",
    "print(\"Training accuracy: \", best_acc)\n",
    "print(\"Testing accuracy: \", test_acc)\n",
    "print(\"Parameters: \", best_individual)\n",
    "\n",
    "# get the loss and accuracy\n",
    "loss = [i[0].cpu().detach().numpy() for i in hist]\n",
    "acc = [i[1] for i in hist]\n",
    "\n",
    "# plot and show the loss and accuracy and save them\n",
    "plt.figure(figsize=(10, 6))\n",
    "plt.plot(loss)\n",
    "plt.title(\"Best Model Loss\")\n",
    "plt.xlabel(\"Epoch\")\n",
    "plt.ylabel(\"Loss\")\n",
    "plt.savefig('figures/results/best_loss.png', dpi=300)\n",
    "plt.show()\n",
    "\n",
    "plt.figure(figsize=(10, 6))\n",
    "plt.plot(acc)\n",
    "plt.title(\"Best Model Accuracy\")\n",
    "plt.xlabel(\"Epoch\")\n",
    "plt.ylabel(\"Accuracy\")\n",
    "plt.savefig('figures/results/best_acc.png', dpi=300)\n",
    "plt.show()\n",
    "\n",
    "# save the model\n",
    "torch.save(model.state_dict(), \"models/best_model.pt\")\n",
    "\n",
    "# save the best individual as a pickle file\n",
    "with open(\"models/best_individual.pkl\", \"wb\") as f:\n",
    "    pickle.dump(best_individual, f)"
   ]
  }
 ],
 "metadata": {
  "kernelspec": {
   "display_name": "Python 3",
   "language": "python",
   "name": "python3"
  },
  "language_info": {
   "codemirror_mode": {
    "name": "ipython",
    "version": 3
   },
   "file_extension": ".py",
   "mimetype": "text/x-python",
   "name": "python",
   "nbconvert_exporter": "python",
   "pygments_lexer": "ipython3",
   "version": "3.10.11"
  }
 },
 "nbformat": 4,
 "nbformat_minor": 2
}
